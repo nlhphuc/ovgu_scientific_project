{
 "cells": [
  {
   "cell_type": "code",
   "execution_count": 1,
   "id": "f6e4f3d4-e2af-476f-8d8e-401c1a6ebbcc",
   "metadata": {},
   "outputs": [],
   "source": [
    "import numpy as np\n",
    "import pandas as pd\n",
    "import matplotlib.pyplot as plt\n",
    "import seaborn as sb\n",
    "import datetime\n",
    "import math\n",
    "from sklearn.model_selection import cross_val_score\n",
    "from sklearn import metrics\n",
    "from sklearn.model_selection import train_test_split\n",
    "from sklearn.tree import DecisionTreeClassifier\n",
    "from sklearn.ensemble import RandomForestClassifier, AdaBoostClassifier\n",
    "from imblearn.ensemble import BalancedRandomForestClassifier\n",
    "from imblearn.over_sampling import SMOTE\n",
    "import xgboost as xgb\n",
    "from imblearn.metrics import geometric_mean_score\n",
    "from sklearn.metrics import roc_curve, auc\n",
    "pd.set_option(\"display.max_columns\", None)"
   ]
  },
  {
   "cell_type": "markdown",
   "id": "c1cce989-5ddb-4a30-8847-9f79b322d7c4",
   "metadata": {},
   "source": [
    "# Load data"
   ]
  },
  {
   "cell_type": "code",
   "execution_count": 2,
   "id": "2330152a-46b5-4780-9762-98483f76ab7a",
   "metadata": {},
   "outputs": [
    {
     "name": "stdout",
     "output_type": "stream",
     "text": [
      "<class 'pandas.core.frame.DataFrame'>\n",
      "RangeIndex: 454282 entries, 0 to 454281\n",
      "Data columns (total 26 columns):\n",
      " #   Column                           Non-Null Count   Dtype  \n",
      "---  ------                           --------------   -----  \n",
      " 0   Unnamed: 0                       454282 non-null  int64  \n",
      " 1   courier_id                       454282 non-null  int64  \n",
      " 2   dispatch_time                    454282 non-null  object \n",
      " 3   grab_time                        454282 non-null  object \n",
      " 4   dt                               454282 non-null  object \n",
      " 5   order_id                         454282 non-null  int64  \n",
      " 6   waybill_id                       454282 non-null  int64  \n",
      " 7   da_id                            454282 non-null  int64  \n",
      " 8   is_courier_grabbed               454282 non-null  int64  \n",
      " 9   is_weekend                       454282 non-null  int64  \n",
      " 10  is_prebook                       454282 non-null  int64  \n",
      " 11  dispatch_to_meal_ready_duration  454282 non-null  float64\n",
      " 12  meal_prepare_duration            454282 non-null  float64\n",
      " 13  mean_meal_prepare_duration       454282 non-null  float64\n",
      " 14  var_meal_prepare_duration        454282 non-null  float64\n",
      " 15  assigned_to_deadline_duration    454282 non-null  float64\n",
      " 16  courier_area_count               454282 non-null  int64  \n",
      " 17  courier_main_area                454282 non-null  int64  \n",
      " 18  distance_from_main_area          454282 non-null  float64\n",
      " 19  day_of_week                      454282 non-null  object \n",
      " 20  batch_size                       454282 non-null  int64  \n",
      " 21  batched_orders                   454282 non-null  object \n",
      " 22  sender_recipient_distance        454282 non-null  float64\n",
      " 23  batch_distance                   454282 non-null  float64\n",
      " 24  dispatch_time_of_day             454282 non-null  int64  \n",
      " 25  reject_rate_in_last_hour         454282 non-null  float64\n",
      "dtypes: float64(9), int64(12), object(5)\n",
      "memory usage: 90.1+ MB\n"
     ]
    }
   ],
   "source": [
    "data = pd.read_csv(\"preprocessed_data.csv\")\n",
    "\n",
    "data.info()"
   ]
  },
  {
   "cell_type": "code",
   "execution_count": 3,
   "id": "f24e30e1-675c-48fc-9502-967429e72168",
   "metadata": {},
   "outputs": [],
   "source": [
    "data['dispatch_time'] = pd.to_datetime(data['dispatch_time'])"
   ]
  },
  {
   "cell_type": "code",
   "execution_count": 4,
   "id": "71158dac-a0e8-49f4-a32d-1bacf5ac3fd6",
   "metadata": {},
   "outputs": [
    {
     "data": {
      "text/plain": [
       "0.8971475867412753"
      ]
     },
     "execution_count": 4,
     "metadata": {},
     "output_type": "execute_result"
    }
   ],
   "source": [
    "data[\"is_courier_grabbed\"].sum()/data.shape[0]"
   ]
  },
  {
   "cell_type": "code",
   "execution_count": 5,
   "id": "f3741a58-f931-46f3-aeec-e5f4485655f0",
   "metadata": {},
   "outputs": [
    {
     "data": {
      "text/html": [
       "<div>\n",
       "<style scoped>\n",
       "    .dataframe tbody tr th:only-of-type {\n",
       "        vertical-align: middle;\n",
       "    }\n",
       "\n",
       "    .dataframe tbody tr th {\n",
       "        vertical-align: top;\n",
       "    }\n",
       "\n",
       "    .dataframe thead th {\n",
       "        text-align: right;\n",
       "    }\n",
       "</style>\n",
       "<table border=\"1\" class=\"dataframe\">\n",
       "  <thead>\n",
       "    <tr style=\"text-align: right;\">\n",
       "      <th></th>\n",
       "      <th>Unnamed: 0</th>\n",
       "      <th>courier_id</th>\n",
       "      <th>dispatch_time</th>\n",
       "      <th>grab_time</th>\n",
       "      <th>dt</th>\n",
       "      <th>order_id</th>\n",
       "      <th>waybill_id</th>\n",
       "      <th>da_id</th>\n",
       "      <th>is_courier_grabbed</th>\n",
       "      <th>is_weekend</th>\n",
       "      <th>is_prebook</th>\n",
       "      <th>dispatch_to_meal_ready_duration</th>\n",
       "      <th>meal_prepare_duration</th>\n",
       "      <th>mean_meal_prepare_duration</th>\n",
       "      <th>var_meal_prepare_duration</th>\n",
       "      <th>assigned_to_deadline_duration</th>\n",
       "      <th>courier_area_count</th>\n",
       "      <th>courier_main_area</th>\n",
       "      <th>distance_from_main_area</th>\n",
       "      <th>day_of_week</th>\n",
       "      <th>batch_size</th>\n",
       "      <th>batched_orders</th>\n",
       "      <th>sender_recipient_distance</th>\n",
       "      <th>batch_distance</th>\n",
       "      <th>dispatch_time_of_day</th>\n",
       "      <th>reject_rate_in_last_hour</th>\n",
       "    </tr>\n",
       "  </thead>\n",
       "  <tbody>\n",
       "    <tr>\n",
       "      <th>0</th>\n",
       "      <td>0</td>\n",
       "      <td>0</td>\n",
       "      <td>2022-10-17 00:41:44</td>\n",
       "      <td>1970-01-01 08:00:00</td>\n",
       "      <td>2022-10-17</td>\n",
       "      <td>194804</td>\n",
       "      <td>353538</td>\n",
       "      <td>0</td>\n",
       "      <td>0</td>\n",
       "      <td>0</td>\n",
       "      <td>0</td>\n",
       "      <td>588.0</td>\n",
       "      <td>642.0</td>\n",
       "      <td>557.838710</td>\n",
       "      <td>45122.473118</td>\n",
       "      <td>2236.0</td>\n",
       "      <td>3</td>\n",
       "      <td>0</td>\n",
       "      <td>0.0</td>\n",
       "      <td>Monday</td>\n",
       "      <td>1</td>\n",
       "      <td>[194804]</td>\n",
       "      <td>2.853723</td>\n",
       "      <td>2.853723</td>\n",
       "      <td>1</td>\n",
       "      <td>-1.0</td>\n",
       "    </tr>\n",
       "    <tr>\n",
       "      <th>1</th>\n",
       "      <td>1</td>\n",
       "      <td>0</td>\n",
       "      <td>2022-10-17 22:26:15</td>\n",
       "      <td>1970-01-01 08:00:00</td>\n",
       "      <td>2022-10-17</td>\n",
       "      <td>104853</td>\n",
       "      <td>366839</td>\n",
       "      <td>0</td>\n",
       "      <td>0</td>\n",
       "      <td>0</td>\n",
       "      <td>0</td>\n",
       "      <td>403.0</td>\n",
       "      <td>443.0</td>\n",
       "      <td>548.974274</td>\n",
       "      <td>20986.856763</td>\n",
       "      <td>2439.0</td>\n",
       "      <td>3</td>\n",
       "      <td>0</td>\n",
       "      <td>0.0</td>\n",
       "      <td>Monday</td>\n",
       "      <td>1</td>\n",
       "      <td>[104853]</td>\n",
       "      <td>3.153131</td>\n",
       "      <td>3.153131</td>\n",
       "      <td>5</td>\n",
       "      <td>-1.0</td>\n",
       "    </tr>\n",
       "    <tr>\n",
       "      <th>2</th>\n",
       "      <td>2</td>\n",
       "      <td>0</td>\n",
       "      <td>2022-10-17 22:45:15</td>\n",
       "      <td>1970-01-01 08:00:00</td>\n",
       "      <td>2022-10-17</td>\n",
       "      <td>64280</td>\n",
       "      <td>65566</td>\n",
       "      <td>0</td>\n",
       "      <td>0</td>\n",
       "      <td>0</td>\n",
       "      <td>0</td>\n",
       "      <td>1007.0</td>\n",
       "      <td>1057.0</td>\n",
       "      <td>596.980769</td>\n",
       "      <td>224370.254525</td>\n",
       "      <td>2361.0</td>\n",
       "      <td>3</td>\n",
       "      <td>0</td>\n",
       "      <td>0.0</td>\n",
       "      <td>Monday</td>\n",
       "      <td>1</td>\n",
       "      <td>[64280]</td>\n",
       "      <td>3.477066</td>\n",
       "      <td>3.477066</td>\n",
       "      <td>5</td>\n",
       "      <td>1.0</td>\n",
       "    </tr>\n",
       "    <tr>\n",
       "      <th>3</th>\n",
       "      <td>3</td>\n",
       "      <td>0</td>\n",
       "      <td>2022-10-17 23:02:15</td>\n",
       "      <td>1970-01-01 08:00:00</td>\n",
       "      <td>2022-10-17</td>\n",
       "      <td>86285</td>\n",
       "      <td>88580</td>\n",
       "      <td>0</td>\n",
       "      <td>0</td>\n",
       "      <td>0</td>\n",
       "      <td>0</td>\n",
       "      <td>369.0</td>\n",
       "      <td>436.0</td>\n",
       "      <td>548.974274</td>\n",
       "      <td>20986.856763</td>\n",
       "      <td>1739.0</td>\n",
       "      <td>3</td>\n",
       "      <td>0</td>\n",
       "      <td>0.0</td>\n",
       "      <td>Monday</td>\n",
       "      <td>1</td>\n",
       "      <td>[86285]</td>\n",
       "      <td>1.679459</td>\n",
       "      <td>1.679459</td>\n",
       "      <td>5</td>\n",
       "      <td>1.0</td>\n",
       "    </tr>\n",
       "    <tr>\n",
       "      <th>4</th>\n",
       "      <td>4</td>\n",
       "      <td>0</td>\n",
       "      <td>2022-10-17 23:03:14</td>\n",
       "      <td>1970-01-01 08:00:00</td>\n",
       "      <td>2022-10-17</td>\n",
       "      <td>83205</td>\n",
       "      <td>432498</td>\n",
       "      <td>0</td>\n",
       "      <td>0</td>\n",
       "      <td>0</td>\n",
       "      <td>0</td>\n",
       "      <td>645.0</td>\n",
       "      <td>1043.0</td>\n",
       "      <td>903.954198</td>\n",
       "      <td>189228.259425</td>\n",
       "      <td>1728.0</td>\n",
       "      <td>3</td>\n",
       "      <td>0</td>\n",
       "      <td>0.0</td>\n",
       "      <td>Monday</td>\n",
       "      <td>1</td>\n",
       "      <td>[83205]</td>\n",
       "      <td>1.722458</td>\n",
       "      <td>1.722458</td>\n",
       "      <td>5</td>\n",
       "      <td>1.0</td>\n",
       "    </tr>\n",
       "  </tbody>\n",
       "</table>\n",
       "</div>"
      ],
      "text/plain": [
       "   Unnamed: 0  courier_id       dispatch_time            grab_time  \\\n",
       "0           0           0 2022-10-17 00:41:44  1970-01-01 08:00:00   \n",
       "1           1           0 2022-10-17 22:26:15  1970-01-01 08:00:00   \n",
       "2           2           0 2022-10-17 22:45:15  1970-01-01 08:00:00   \n",
       "3           3           0 2022-10-17 23:02:15  1970-01-01 08:00:00   \n",
       "4           4           0 2022-10-17 23:03:14  1970-01-01 08:00:00   \n",
       "\n",
       "           dt  order_id  waybill_id  da_id  is_courier_grabbed  is_weekend  \\\n",
       "0  2022-10-17    194804      353538      0                   0           0   \n",
       "1  2022-10-17    104853      366839      0                   0           0   \n",
       "2  2022-10-17     64280       65566      0                   0           0   \n",
       "3  2022-10-17     86285       88580      0                   0           0   \n",
       "4  2022-10-17     83205      432498      0                   0           0   \n",
       "\n",
       "   is_prebook  dispatch_to_meal_ready_duration  meal_prepare_duration  \\\n",
       "0           0                            588.0                  642.0   \n",
       "1           0                            403.0                  443.0   \n",
       "2           0                           1007.0                 1057.0   \n",
       "3           0                            369.0                  436.0   \n",
       "4           0                            645.0                 1043.0   \n",
       "\n",
       "   mean_meal_prepare_duration  var_meal_prepare_duration  \\\n",
       "0                  557.838710               45122.473118   \n",
       "1                  548.974274               20986.856763   \n",
       "2                  596.980769              224370.254525   \n",
       "3                  548.974274               20986.856763   \n",
       "4                  903.954198              189228.259425   \n",
       "\n",
       "   assigned_to_deadline_duration  courier_area_count  courier_main_area  \\\n",
       "0                         2236.0                   3                  0   \n",
       "1                         2439.0                   3                  0   \n",
       "2                         2361.0                   3                  0   \n",
       "3                         1739.0                   3                  0   \n",
       "4                         1728.0                   3                  0   \n",
       "\n",
       "   distance_from_main_area day_of_week  batch_size batched_orders  \\\n",
       "0                      0.0      Monday           1       [194804]   \n",
       "1                      0.0      Monday           1       [104853]   \n",
       "2                      0.0      Monday           1        [64280]   \n",
       "3                      0.0      Monday           1        [86285]   \n",
       "4                      0.0      Monday           1        [83205]   \n",
       "\n",
       "   sender_recipient_distance  batch_distance  dispatch_time_of_day  \\\n",
       "0                   2.853723        2.853723                     1   \n",
       "1                   3.153131        3.153131                     5   \n",
       "2                   3.477066        3.477066                     5   \n",
       "3                   1.679459        1.679459                     5   \n",
       "4                   1.722458        1.722458                     5   \n",
       "\n",
       "   reject_rate_in_last_hour  \n",
       "0                      -1.0  \n",
       "1                      -1.0  \n",
       "2                       1.0  \n",
       "3                       1.0  \n",
       "4                       1.0  "
      ]
     },
     "execution_count": 5,
     "metadata": {},
     "output_type": "execute_result"
    }
   ],
   "source": [
    "data.head()"
   ]
  },
  {
   "cell_type": "code",
   "execution_count": 6,
   "id": "de4c9999-4a3d-4690-a7fc-7aecc2ea50f9",
   "metadata": {},
   "outputs": [
    {
     "data": {
      "text/plain": [
       "is_courier_grabbed\n",
       "1    407558\n",
       "0     46724\n",
       "Name: count, dtype: int64"
      ]
     },
     "execution_count": 6,
     "metadata": {},
     "output_type": "execute_result"
    }
   ],
   "source": [
    "classes = data[\"is_courier_grabbed\"].value_counts()\n",
    "classes"
   ]
  },
  {
   "cell_type": "code",
   "execution_count": 7,
   "id": "39fca1b1-500f-438a-b6af-396a14aa3aa8",
   "metadata": {},
   "outputs": [
    {
     "data": {
      "image/png": "[encoded data removed]",
      "text/plain": [
       "<Figure size 640x480 with 1 Axes>"
      ]
     },
     "metadata": {},
     "output_type": "display_data"
    }
   ],
   "source": [
    "ax = sb.countplot(x='is_courier_grabbed', data=data)\n",
    "ax.bar_label(ax.containers[0])\n",
    "plt.title('Number of batches of orders whether accepted by couriers', fontsize=16)\n",
    "plt.xlabel('Whether accepted by couriers', fontsize=14)\n",
    "plt.ylabel('Number of Orders', fontsize=14)\n",
    "plt.xticks([0, 1])\n",
    "plt.show()"
   ]
  },
  {
   "cell_type": "code",
   "execution_count": 8,
   "id": "88cde172-9262-4694-b482-d694387b6a9a",
   "metadata": {},
   "outputs": [
    {
     "data": {
      "text/plain": [
       "[]"
      ]
     },
     "execution_count": 8,
     "metadata": {},
     "output_type": "execute_result"
    }
   ],
   "source": [
    "ax.plot()"
   ]
  },
  {
   "cell_type": "code",
   "execution_count": 9,
   "id": "139238d9-dcd0-4d01-b1de-34a093c9d1ec",
   "metadata": {},
   "outputs": [
    {
     "data": {
      "text/html": [
       "<div>\n",
       "<style scoped>\n",
       "    .dataframe tbody tr th:only-of-type {\n",
       "        vertical-align: middle;\n",
       "    }\n",
       "\n",
       "    .dataframe tbody tr th {\n",
       "        vertical-align: top;\n",
       "    }\n",
       "\n",
       "    .dataframe thead th {\n",
       "        text-align: right;\n",
       "    }\n",
       "</style>\n",
       "<table border=\"1\" class=\"dataframe\">\n",
       "  <thead>\n",
       "    <tr style=\"text-align: right;\">\n",
       "      <th>da_id</th>\n",
       "      <th>0</th>\n",
       "      <th>1</th>\n",
       "      <th>2</th>\n",
       "      <th>3</th>\n",
       "      <th>4</th>\n",
       "      <th>5</th>\n",
       "      <th>6</th>\n",
       "      <th>7</th>\n",
       "      <th>8</th>\n",
       "      <th>9</th>\n",
       "      <th>10</th>\n",
       "      <th>11</th>\n",
       "      <th>12</th>\n",
       "      <th>13</th>\n",
       "      <th>14</th>\n",
       "      <th>15</th>\n",
       "      <th>16</th>\n",
       "      <th>17</th>\n",
       "      <th>18</th>\n",
       "      <th>19</th>\n",
       "      <th>20</th>\n",
       "      <th>21</th>\n",
       "      <th>22</th>\n",
       "    </tr>\n",
       "    <tr>\n",
       "      <th>is_courier_grabbed</th>\n",
       "      <th></th>\n",
       "      <th></th>\n",
       "      <th></th>\n",
       "      <th></th>\n",
       "      <th></th>\n",
       "      <th></th>\n",
       "      <th></th>\n",
       "      <th></th>\n",
       "      <th></th>\n",
       "      <th></th>\n",
       "      <th></th>\n",
       "      <th></th>\n",
       "      <th></th>\n",
       "      <th></th>\n",
       "      <th></th>\n",
       "      <th></th>\n",
       "      <th></th>\n",
       "      <th></th>\n",
       "      <th></th>\n",
       "      <th></th>\n",
       "      <th></th>\n",
       "      <th></th>\n",
       "      <th></th>\n",
       "    </tr>\n",
       "  </thead>\n",
       "  <tbody>\n",
       "    <tr>\n",
       "      <th>0</th>\n",
       "      <td>17421</td>\n",
       "      <td>2412</td>\n",
       "      <td>4617</td>\n",
       "      <td>0</td>\n",
       "      <td>1844</td>\n",
       "      <td>8978</td>\n",
       "      <td>0</td>\n",
       "      <td>0</td>\n",
       "      <td>0</td>\n",
       "      <td>6616</td>\n",
       "      <td>0</td>\n",
       "      <td>0</td>\n",
       "      <td>2038</td>\n",
       "      <td>2723</td>\n",
       "      <td>0</td>\n",
       "      <td>0</td>\n",
       "      <td>0</td>\n",
       "      <td>0</td>\n",
       "      <td>0</td>\n",
       "      <td>0</td>\n",
       "      <td>0</td>\n",
       "      <td>0</td>\n",
       "      <td>75</td>\n",
       "    </tr>\n",
       "    <tr>\n",
       "      <th>1</th>\n",
       "      <td>66640</td>\n",
       "      <td>16183</td>\n",
       "      <td>19011</td>\n",
       "      <td>21385</td>\n",
       "      <td>11598</td>\n",
       "      <td>34987</td>\n",
       "      <td>39080</td>\n",
       "      <td>34143</td>\n",
       "      <td>16763</td>\n",
       "      <td>39967</td>\n",
       "      <td>5212</td>\n",
       "      <td>13675</td>\n",
       "      <td>9597</td>\n",
       "      <td>12379</td>\n",
       "      <td>5531</td>\n",
       "      <td>8506</td>\n",
       "      <td>4459</td>\n",
       "      <td>6103</td>\n",
       "      <td>20680</td>\n",
       "      <td>9488</td>\n",
       "      <td>7247</td>\n",
       "      <td>4427</td>\n",
       "      <td>497</td>\n",
       "    </tr>\n",
       "  </tbody>\n",
       "</table>\n",
       "</div>"
      ],
      "text/plain": [
       "da_id                  0      1      2      3      4      5      6      7   \\\n",
       "is_courier_grabbed                                                           \n",
       "0                   17421   2412   4617      0   1844   8978      0      0   \n",
       "1                   66640  16183  19011  21385  11598  34987  39080  34143   \n",
       "\n",
       "da_id                  8      9     10     11    12     13    14    15    16  \\\n",
       "is_courier_grabbed                                                             \n",
       "0                       0   6616     0      0  2038   2723     0     0     0   \n",
       "1                   16763  39967  5212  13675  9597  12379  5531  8506  4459   \n",
       "\n",
       "da_id                 17     18    19    20    21   22  \n",
       "is_courier_grabbed                                      \n",
       "0                      0      0     0     0     0   75  \n",
       "1                   6103  20680  9488  7247  4427  497  "
      ]
     },
     "execution_count": 9,
     "metadata": {},
     "output_type": "execute_result"
    }
   ],
   "source": [
    "pd.crosstab(data[\"is_courier_grabbed\"], data[\"da_id\"])"
   ]
  },
  {
   "cell_type": "markdown",
   "id": "50f327af-4763-40c1-9d95-28d6f3008de8",
   "metadata": {},
   "source": [
    "# Build predictive model"
   ]
  },
  {
   "cell_type": "code",
   "execution_count": 10,
   "id": "52fce220-88d9-4131-9b74-b04ec6e8b65a",
   "metadata": {},
   "outputs": [],
   "source": [
    "features = [\"dispatch_time_of_day\", \n",
    "            \"courier_area_count\", \"reject_rate_in_last_hour\",\n",
    "            \"var_meal_prepare_duration\", \n",
    "            \"dispatch_to_meal_ready_duration\", \n",
    "            \"assigned_to_deadline_duration\", \n",
    "            \"batch_size\", \"batch_distance\"]\n",
    "\n",
    "\n",
    "df = data\n",
    "# df = data[(data[\"da_id\"] == \"0\") | (data[\"da_id\"] == \"1\") | \n",
    "#           (data[\"da_id\"] == \"2\") | (data[\"da_id\"] == \"4\") | \n",
    "#           (data[\"da_id\"] == \"5\") | (data[\"da_id\"] == \"9\") | \n",
    "#           (data[\"da_id\"] == \"12\") | (data[\"da_id\"] == \"13\") |\n",
    "#           (data[\"da_id\"] == \"22\")]"
   ]
  },
  {
   "cell_type": "code",
   "execution_count": 11,
   "id": "6a11fe7e-6c75-41dc-a4fd-fcbf9f6612c9",
   "metadata": {},
   "outputs": [],
   "source": [
    "X = df[features]\n",
    "y = df[\"is_courier_grabbed\"]"
   ]
  },
  {
   "cell_type": "code",
   "execution_count": 12,
   "id": "375ffd98-2f97-4573-8367-4e0ee7b0dcd1",
   "metadata": {},
   "outputs": [],
   "source": [
    "# Split randomly\n",
    "X_train, X_test, y_train, y_test = train_test_split(X, y, test_size = 0.3)\n",
    "\n",
    "# # Split by days\n",
    "# df_train = df[(df[\"dispatch_time\"].dt.date != pd.to_datetime(\"2022-10-24\").date())]\n",
    "# df_test = df[(df[\"dispatch_time\"].dt.date == pd.to_datetime(\"2022-10-24\").date())]\n",
    "\n",
    "# X_train = df_train[features]\n",
    "# y_train = df_train[\"is_courier_grabbed\"]\n",
    "\n",
    "# X_test = df_test[features]\n",
    "# y_test = df_test[\"is_courier_grabbed\"]"
   ]
  },
  {
   "cell_type": "code",
   "execution_count": null,
   "id": "b03e1e75-2f01-4af6-a65a-9c256598ac49",
   "metadata": {},
   "outputs": [],
   "source": []
  },
  {
   "cell_type": "markdown",
   "id": "24ba6756-b975-404b-b0ab-6d61d300ab0c",
   "metadata": {},
   "source": [
    "## Decision Tree"
   ]
  },
  {
   "cell_type": "code",
   "execution_count": 13,
   "id": "f8d85958-b1f8-41e3-aea2-78c465c7d39f",
   "metadata": {},
   "outputs": [
    {
     "data": {
      "text/html": [
       "<style>#sk-container-id-1 {color: black;}#sk-container-id-1 pre{padding: 0;}#sk-container-id-1 div.sk-toggleable {background-color: white;}#sk-container-id-1 label.sk-toggleable__label {cursor: pointer;display: block;width: 100%;margin-bottom: 0;padding: 0.3em;box-sizing: border-box;text-align: center;}#sk-container-id-1 label.sk-toggleable__label-arrow:before {content: \"▸\";float: left;margin-right: 0.25em;color: #696969;}#sk-container-id-1 label.sk-toggleable__label-arrow:hover:before {color: black;}#sk-container-id-1 div.sk-estimator:hover label.sk-toggleable__label-arrow:before {color: black;}#sk-container-id-1 div.sk-toggleable__content {max-height: 0;max-width: 0;overflow: hidden;text-align: left;background-color: #f0f8ff;}#sk-container-id-1 div.sk-toggleable__content pre {margin: 0.2em;color: black;border-radius: 0.25em;background-color: #f0f8ff;}#sk-container-id-1 input.sk-toggleable__control:checked~div.sk-toggleable__content {max-height: 200px;max-width: 100%;overflow: auto;}#sk-container-id-1 input.sk-toggleable__control:checked~label.sk-toggleable__label-arrow:before {content: \"▾\";}#sk-container-id-1 div.sk-estimator input.sk-toggleable__control:checked~label.sk-toggleable__label {background-color: #d4ebff;}#sk-container-id-1 div.sk-label input.sk-toggleable__control:checked~label.sk-toggleable__label {background-color: #d4ebff;}#sk-container-id-1 input.sk-hidden--visually {border: 0;clip: rect(1px 1px 1px 1px);clip: rect(1px, 1px, 1px, 1px);height: 1px;margin: -1px;overflow: hidden;padding: 0;position: absolute;width: 1px;}#sk-container-id-1 div.sk-estimator {font-family: monospace;background-color: #f0f8ff;border: 1px dotted black;border-radius: 0.25em;box-sizing: border-box;margin-bottom: 0.5em;}#sk-container-id-1 div.sk-estimator:hover {background-color: #d4ebff;}#sk-container-id-1 div.sk-parallel-item::after {content: \"\";width: 100%;border-bottom: 1px solid gray;flex-grow: 1;}#sk-container-id-1 div.sk-label:hover label.sk-toggleable__label {background-color: #d4ebff;}#sk-container-id-1 div.sk-serial::before {content: \"\";position: absolute;border-left: 1px solid gray;box-sizing: border-box;top: 0;bottom: 0;left: 50%;z-index: 0;}#sk-container-id-1 div.sk-serial {display: flex;flex-direction: column;align-items: center;background-color: white;padding-right: 0.2em;padding-left: 0.2em;position: relative;}#sk-container-id-1 div.sk-item {position: relative;z-index: 1;}#sk-container-id-1 div.sk-parallel {display: flex;align-items: stretch;justify-content: center;background-color: white;position: relative;}#sk-container-id-1 div.sk-item::before, #sk-container-id-1 div.sk-parallel-item::before {content: \"\";position: absolute;border-left: 1px solid gray;box-sizing: border-box;top: 0;bottom: 0;left: 50%;z-index: -1;}#sk-container-id-1 div.sk-parallel-item {display: flex;flex-direction: column;z-index: 1;position: relative;background-color: white;}#sk-container-id-1 div.sk-parallel-item:first-child::after {align-self: flex-end;width: 50%;}#sk-container-id-1 div.sk-parallel-item:last-child::after {align-self: flex-start;width: 50%;}#sk-container-id-1 div.sk-parallel-item:only-child::after {width: 0;}#sk-container-id-1 div.sk-dashed-wrapped {border: 1px dashed gray;margin: 0 0.4em 0.5em 0.4em;box-sizing: border-box;padding-bottom: 0.4em;background-color: white;}#sk-container-id-1 div.sk-label label {font-family: monospace;font-weight: bold;display: inline-block;line-height: 1.2em;}#sk-container-id-1 div.sk-label-container {text-align: center;}#sk-container-id-1 div.sk-container {/* jupyter's `normalize.less` sets `[hidden] { display: none; }` but bootstrap.min.css set `[hidden] { display: none !important; }` so we also need the `!important` here to be able to override the default hidden behavior on the sphinx rendered scikit-learn.org. See: https://github.com/scikit-learn/scikit-learn/issues/21755 */display: inline-block !important;position: relative;}#sk-container-id-1 div.sk-text-repr-fallback {display: none;}</style><div id=\"sk-container-id-1\" class=\"sk-top-container\"><div class=\"sk-text-repr-fallback\"><pre>DecisionTreeClassifier(class_weight={0: 32718, 1: 285279})</pre><b>In a Jupyter environment, please rerun this cell to show the HTML representation or trust the notebook. <br />On GitHub, the HTML representation is unable to render, please try loading this page with nbviewer.org.</b></div><div class=\"sk-container\" hidden><div class=\"sk-item\"><div class=\"sk-estimator sk-toggleable\"><input class=\"sk-toggleable__control sk-hidden--visually\" id=\"sk-estimator-id-1\" type=\"checkbox\" checked><label for=\"sk-estimator-id-1\" class=\"sk-toggleable__label sk-toggleable__label-arrow\">DecisionTreeClassifier</label><div class=\"sk-toggleable__content\"><pre>DecisionTreeClassifier(class_weight={0: 32718, 1: 285279})</pre></div></div></div></div></div>"
      ],
      "text/plain": [
       "DecisionTreeClassifier(class_weight={0: 32718, 1: 285279})"
      ]
     },
     "execution_count": 13,
     "metadata": {},
     "output_type": "execute_result"
    }
   ],
   "source": [
    "weights = {0: len(y_train)-sum(y_train), 1: sum(y_train)}\n",
    "dt_model = DecisionTreeClassifier(class_weight=weights)\n",
    "dt_model.fit(X_train, y_train)"
   ]
  },
  {
   "cell_type": "markdown",
   "id": "ca6930cb-2373-4907-8836-79fa0153c5ea",
   "metadata": {},
   "source": [
    "### Metrics on train"
   ]
  },
  {
   "cell_type": "code",
   "execution_count": 14,
   "id": "de55900d-8bff-4527-8e35-7137930e3da1",
   "metadata": {},
   "outputs": [
    {
     "data": {
      "text/plain": [
       "array([1., 1., 1., ..., 1., 1., 1.])"
      ]
     },
     "execution_count": 14,
     "metadata": {},
     "output_type": "execute_result"
    }
   ],
   "source": [
    "y_probas = dt_model.predict_proba(X_train)[:,1]\n",
    "y_preds = (y_probas >= 0.5).astype('int')\n",
    "y_probas"
   ]
  },
  {
   "cell_type": "code",
   "execution_count": 15,
   "id": "ae7019b7-a9f7-402a-ad08-e54686d97c0d",
   "metadata": {},
   "outputs": [
    {
     "data": {
      "text/plain": [
       "array([[ 32718,      0],\n",
       "       [     0, 285279]], dtype=int64)"
      ]
     },
     "execution_count": 15,
     "metadata": {},
     "output_type": "execute_result"
    }
   ],
   "source": [
    "(tn, fp, fn, tp) = metrics.confusion_matrix(y_train, y_preds).ravel()\n",
    "metrics.confusion_matrix(y_train, y_preds)"
   ]
  },
  {
   "cell_type": "code",
   "execution_count": 16,
   "id": "864f9a30-c20a-4706-b123-ad36210a3672",
   "metadata": {},
   "outputs": [],
   "source": [
    "dt_precision_train = tp/(tp + fp)\n",
    "dt_recall_train = tp/(tp + fn)\n",
    "dt_specificity_train = tn/(tn + fp)\n",
    "\n",
    "dt_gmean_train = math.sqrt(dt_recall_train * dt_specificity_train)\n",
    "dt_f1_train = 2*dt_recall_train*dt_precision_train/(dt_recall_train+dt_precision_train)\n",
    "dt_accuracy_train = (tp + tn)/(tp + fp + tn + fn)\n",
    "fpr, tpr, thresholds = roc_curve(y_train, y_probas)\n",
    "dt_roc_auc_train = auc(fpr, tpr)"
   ]
  },
  {
   "cell_type": "markdown",
   "id": "e3541b78-87fa-46a6-8a1e-8efd80687272",
   "metadata": {},
   "source": [
    "### Cross validation"
   ]
  },
  {
   "cell_type": "code",
   "execution_count": 17,
   "id": "6daf30ea-9dc8-4099-94ba-45c031b75bc4",
   "metadata": {},
   "outputs": [],
   "source": [
    "gm_scorer = metrics.make_scorer(geometric_mean_score, greater_is_better=True)\n",
    "scores = cross_val_score(dt_model, X_train, y_train, cv=5, scoring=gm_scorer)\n",
    "dt_gmean_cv = scores.mean()"
   ]
  },
  {
   "cell_type": "code",
   "execution_count": 18,
   "id": "731e9122-e9dc-477f-836f-14027bffdce8",
   "metadata": {},
   "outputs": [],
   "source": [
    "scores = cross_val_score(dt_model, X_train, y_train, cv=5, scoring='roc_auc')\n",
    "dt_roc_auc_cv = scores.mean()"
   ]
  },
  {
   "cell_type": "markdown",
   "id": "1f49d64b-7307-4968-9f91-0f71342c3871",
   "metadata": {},
   "source": [
    "### Metrics on test"
   ]
  },
  {
   "cell_type": "code",
   "execution_count": 19,
   "id": "fb726319-7052-48fe-8ec2-c2df3a6dc95d",
   "metadata": {},
   "outputs": [
    {
     "data": {
      "text/plain": [
       "array([1., 1., 1., ..., 1., 1., 1.])"
      ]
     },
     "execution_count": 19,
     "metadata": {},
     "output_type": "execute_result"
    }
   ],
   "source": [
    "y_probas = dt_model.predict_proba(X_test)[:,1]\n",
    "y_preds = (y_probas >= 0.5).astype('int')\n",
    "y_probas"
   ]
  },
  {
   "cell_type": "code",
   "execution_count": 20,
   "id": "9368cedb-3a71-44ae-a145-ec66836b47c7",
   "metadata": {},
   "outputs": [
    {
     "data": {
      "text/plain": [
       "array([[  4314,   9692],\n",
       "       [ 12075, 110204]], dtype=int64)"
      ]
     },
     "execution_count": 20,
     "metadata": {},
     "output_type": "execute_result"
    }
   ],
   "source": [
    "(tn, fp, fn, tp) = metrics.confusion_matrix(y_test, y_preds).ravel()\n",
    "metrics.confusion_matrix(y_test, y_preds)"
   ]
  },
  {
   "cell_type": "code",
   "execution_count": 21,
   "id": "8e9b2813-b5b5-4b44-bff0-d21a239cd006",
   "metadata": {},
   "outputs": [],
   "source": [
    "dt_precision_test = tp/(tp + fp)\n",
    "dt_recall_test = tp/(tp + fn)\n",
    "dt_specificity_test = tn/(tn + fp)\n",
    "\n",
    "dt_gmean_test = math.sqrt(dt_recall_test * dt_specificity_test)\n",
    "dt_f1_test = 2*dt_recall_test*dt_precision_test/(dt_recall_test+dt_precision_test)\n",
    "dt_accuracy_test = (tp + tn)/(tp + fp + tn + fn)\n",
    "dt_fpr, dt_tpr, thresholds = roc_curve(y_test, y_probas)\n",
    "dt_roc_auc_test = auc(dt_fpr, dt_tpr)"
   ]
  },
  {
   "cell_type": "code",
   "execution_count": null,
   "id": "8c340a21-5b32-4942-8b11-04ed67e89e3c",
   "metadata": {},
   "outputs": [],
   "source": []
  },
  {
   "cell_type": "code",
   "execution_count": null,
   "id": "30679944-871f-4dcb-8487-d4f8005de161",
   "metadata": {},
   "outputs": [],
   "source": []
  },
  {
   "cell_type": "code",
   "execution_count": null,
   "id": "ea93fc0c-9fd3-4acc-8f79-9d6ac8b3c447",
   "metadata": {},
   "outputs": [],
   "source": []
  },
  {
   "cell_type": "markdown",
   "id": "86d38595-cde4-4048-8d7c-d13fc71517fb",
   "metadata": {},
   "source": [
    "## Random Forest"
   ]
  },
  {
   "cell_type": "code",
   "execution_count": 22,
   "id": "08ea780c-5f37-405c-9496-5c40264f3331",
   "metadata": {},
   "outputs": [
    {
     "name": "stderr",
     "output_type": "stream",
     "text": [
      "c:\\Users\\ASUS\\AppData\\Local\\Programs\\Python\\Python310\\lib\\site-packages\\imblearn\\ensemble\\_forest.py:577: FutureWarning: The default of `sampling_strategy` will change from `'auto'` to `'all'` in version 0.13. This change will follow the implementation proposed in the original paper. Set to `'all'` to silence this warning and adopt the future behaviour.\n",
      "  warn(\n",
      "c:\\Users\\ASUS\\AppData\\Local\\Programs\\Python\\Python310\\lib\\site-packages\\imblearn\\ensemble\\_forest.py:589: FutureWarning: The default of `replacement` will change from `False` to `True` in version 0.13. This change will follow the implementation proposed in the original paper. Set to `True` to silence this warning and adopt the future behaviour.\n",
      "  warn(\n",
      "c:\\Users\\ASUS\\AppData\\Local\\Programs\\Python\\Python310\\lib\\site-packages\\imblearn\\ensemble\\_forest.py:601: FutureWarning: The default of `bootstrap` will change from `True` to `False` in version 0.13. This change will follow the implementation proposed in the original paper. Set to `False` to silence this warning and adopt the future behaviour.\n",
      "  warn(\n"
     ]
    },
    {
     "data": {
      "text/html": [
       "<style>#sk-container-id-2 {color: black;}#sk-container-id-2 pre{padding: 0;}#sk-container-id-2 div.sk-toggleable {background-color: white;}#sk-container-id-2 label.sk-toggleable__label {cursor: pointer;display: block;width: 100%;margin-bottom: 0;padding: 0.3em;box-sizing: border-box;text-align: center;}#sk-container-id-2 label.sk-toggleable__label-arrow:before {content: \"▸\";float: left;margin-right: 0.25em;color: #696969;}#sk-container-id-2 label.sk-toggleable__label-arrow:hover:before {color: black;}#sk-container-id-2 div.sk-estimator:hover label.sk-toggleable__label-arrow:before {color: black;}#sk-container-id-2 div.sk-toggleable__content {max-height: 0;max-width: 0;overflow: hidden;text-align: left;background-color: #f0f8ff;}#sk-container-id-2 div.sk-toggleable__content pre {margin: 0.2em;color: black;border-radius: 0.25em;background-color: #f0f8ff;}#sk-container-id-2 input.sk-toggleable__control:checked~div.sk-toggleable__content {max-height: 200px;max-width: 100%;overflow: auto;}#sk-container-id-2 input.sk-toggleable__control:checked~label.sk-toggleable__label-arrow:before {content: \"▾\";}#sk-container-id-2 div.sk-estimator input.sk-toggleable__control:checked~label.sk-toggleable__label {background-color: #d4ebff;}#sk-container-id-2 div.sk-label input.sk-toggleable__control:checked~label.sk-toggleable__label {background-color: #d4ebff;}#sk-container-id-2 input.sk-hidden--visually {border: 0;clip: rect(1px 1px 1px 1px);clip: rect(1px, 1px, 1px, 1px);height: 1px;margin: -1px;overflow: hidden;padding: 0;position: absolute;width: 1px;}#sk-container-id-2 div.sk-estimator {font-family: monospace;background-color: #f0f8ff;border: 1px dotted black;border-radius: 0.25em;box-sizing: border-box;margin-bottom: 0.5em;}#sk-container-id-2 div.sk-estimator:hover {background-color: #d4ebff;}#sk-container-id-2 div.sk-parallel-item::after {content: \"\";width: 100%;border-bottom: 1px solid gray;flex-grow: 1;}#sk-container-id-2 div.sk-label:hover label.sk-toggleable__label {background-color: #d4ebff;}#sk-container-id-2 div.sk-serial::before {content: \"\";position: absolute;border-left: 1px solid gray;box-sizing: border-box;top: 0;bottom: 0;left: 50%;z-index: 0;}#sk-container-id-2 div.sk-serial {display: flex;flex-direction: column;align-items: center;background-color: white;padding-right: 0.2em;padding-left: 0.2em;position: relative;}#sk-container-id-2 div.sk-item {position: relative;z-index: 1;}#sk-container-id-2 div.sk-parallel {display: flex;align-items: stretch;justify-content: center;background-color: white;position: relative;}#sk-container-id-2 div.sk-item::before, #sk-container-id-2 div.sk-parallel-item::before {content: \"\";position: absolute;border-left: 1px solid gray;box-sizing: border-box;top: 0;bottom: 0;left: 50%;z-index: -1;}#sk-container-id-2 div.sk-parallel-item {display: flex;flex-direction: column;z-index: 1;position: relative;background-color: white;}#sk-container-id-2 div.sk-parallel-item:first-child::after {align-self: flex-end;width: 50%;}#sk-container-id-2 div.sk-parallel-item:last-child::after {align-self: flex-start;width: 50%;}#sk-container-id-2 div.sk-parallel-item:only-child::after {width: 0;}#sk-container-id-2 div.sk-dashed-wrapped {border: 1px dashed gray;margin: 0 0.4em 0.5em 0.4em;box-sizing: border-box;padding-bottom: 0.4em;background-color: white;}#sk-container-id-2 div.sk-label label {font-family: monospace;font-weight: bold;display: inline-block;line-height: 1.2em;}#sk-container-id-2 div.sk-label-container {text-align: center;}#sk-container-id-2 div.sk-container {/* jupyter's `normalize.less` sets `[hidden] { display: none; }` but bootstrap.min.css set `[hidden] { display: none !important; }` so we also need the `!important` here to be able to override the default hidden behavior on the sphinx rendered scikit-learn.org. See: https://github.com/scikit-learn/scikit-learn/issues/21755 */display: inline-block !important;position: relative;}#sk-container-id-2 div.sk-text-repr-fallback {display: none;}</style><div id=\"sk-container-id-2\" class=\"sk-top-container\"><div class=\"sk-text-repr-fallback\"><pre>BalancedRandomForestClassifier()</pre><b>In a Jupyter environment, please rerun this cell to show the HTML representation or trust the notebook. <br />On GitHub, the HTML representation is unable to render, please try loading this page with nbviewer.org.</b></div><div class=\"sk-container\" hidden><div class=\"sk-item\"><div class=\"sk-estimator sk-toggleable\"><input class=\"sk-toggleable__control sk-hidden--visually\" id=\"sk-estimator-id-2\" type=\"checkbox\" checked><label for=\"sk-estimator-id-2\" class=\"sk-toggleable__label sk-toggleable__label-arrow\">BalancedRandomForestClassifier</label><div class=\"sk-toggleable__content\"><pre>BalancedRandomForestClassifier()</pre></div></div></div></div></div>"
      ],
      "text/plain": [
       "BalancedRandomForestClassifier()"
      ]
     },
     "execution_count": 22,
     "metadata": {},
     "output_type": "execute_result"
    }
   ],
   "source": [
    "rf_model = BalancedRandomForestClassifier()\n",
    "rf_model.fit(X_train, y_train)"
   ]
  },
  {
   "cell_type": "markdown",
   "id": "29bc640f-ed16-48e7-9ab8-4b5de574d929",
   "metadata": {},
   "source": [
    "### Metrics on train"
   ]
  },
  {
   "cell_type": "code",
   "execution_count": 23,
   "id": "27bfe502-8c70-4411-8030-a721d2bc50e3",
   "metadata": {},
   "outputs": [
    {
     "data": {
      "text/plain": [
       "array([1.  , 0.7 , 0.26, ..., 0.98, 0.31, 0.4 ])"
      ]
     },
     "execution_count": 23,
     "metadata": {},
     "output_type": "execute_result"
    }
   ],
   "source": [
    "y_probas = rf_model.predict_proba(X_train)[:,1]\n",
    "y_preds = (y_probas >= 0.5).astype('int')\n",
    "y_probas"
   ]
  },
  {
   "cell_type": "code",
   "execution_count": 24,
   "id": "aa9c0c52-df50-48ce-b93e-1052e50d6734",
   "metadata": {},
   "outputs": [
    {
     "data": {
      "text/plain": [
       "array([[ 32718,      0],\n",
       "       [ 78821, 206458]], dtype=int64)"
      ]
     },
     "execution_count": 24,
     "metadata": {},
     "output_type": "execute_result"
    }
   ],
   "source": [
    "(tn, fp, fn, tp) = metrics.confusion_matrix(y_train, y_preds).ravel()\n",
    "metrics.confusion_matrix(y_train, y_preds)"
   ]
  },
  {
   "cell_type": "code",
   "execution_count": 25,
   "id": "9f18f181-a72e-425f-b3ac-010b586d3ccc",
   "metadata": {},
   "outputs": [],
   "source": [
    "rf_precision_train = tp/(tp + fp)\n",
    "rf_recall_train = tp/(tp + fn)\n",
    "rf_specificity_train = tn/(tn + fp)\n",
    "\n",
    "rf_gmean_train = math.sqrt(rf_recall_train * rf_specificity_train)\n",
    "rf_f1_train = 2*rf_recall_train*rf_precision_train/(rf_recall_train+rf_precision_train)\n",
    "rf_accuracy_train = (tp + tn)/(tp + fp + tn + fn)\n",
    "fpr, tpr, thresholds = roc_curve(y_train, y_probas)\n",
    "rf_roc_auc_train = auc(fpr, tpr)"
   ]
  },
  {
   "cell_type": "markdown",
   "id": "a70be976-258e-4e7f-b1d3-4c4ea77cfa17",
   "metadata": {},
   "source": [
    "### Cross validation"
   ]
  },
  {
   "cell_type": "code",
   "execution_count": 26,
   "id": "102a0ad9-be54-4a72-8e46-65aaffbcd92a",
   "metadata": {},
   "outputs": [
    {
     "name": "stderr",
     "output_type": "stream",
     "text": [
      "c:\\Users\\ASUS\\AppData\\Local\\Programs\\Python\\Python310\\lib\\site-packages\\imblearn\\ensemble\\_forest.py:577: FutureWarning: The default of `sampling_strategy` will change from `'auto'` to `'all'` in version 0.13. This change will follow the implementation proposed in the original paper. Set to `'all'` to silence this warning and adopt the future behaviour.\n",
      "  warn(\n",
      "c:\\Users\\ASUS\\AppData\\Local\\Programs\\Python\\Python310\\lib\\site-packages\\imblearn\\ensemble\\_forest.py:589: FutureWarning: The default of `replacement` will change from `False` to `True` in version 0.13. This change will follow the implementation proposed in the original paper. Set to `True` to silence this warning and adopt the future behaviour.\n",
      "  warn(\n",
      "c:\\Users\\ASUS\\AppData\\Local\\Programs\\Python\\Python310\\lib\\site-packages\\imblearn\\ensemble\\_forest.py:601: FutureWarning: The default of `bootstrap` will change from `True` to `False` in version 0.13. This change will follow the implementation proposed in the original paper. Set to `False` to silence this warning and adopt the future behaviour.\n",
      "  warn(\n",
      "c:\\Users\\ASUS\\AppData\\Local\\Programs\\Python\\Python310\\lib\\site-packages\\imblearn\\ensemble\\_forest.py:577: FutureWarning: The default of `sampling_strategy` will change from `'auto'` to `'all'` in version 0.13. This change will follow the implementation proposed in the original paper. Set to `'all'` to silence this warning and adopt the future behaviour.\n",
      "  warn(\n",
      "c:\\Users\\ASUS\\AppData\\Local\\Programs\\Python\\Python310\\lib\\site-packages\\imblearn\\ensemble\\_forest.py:589: FutureWarning: The default of `replacement` will change from `False` to `True` in version 0.13. This change will follow the implementation proposed in the original paper. Set to `True` to silence this warning and adopt the future behaviour.\n",
      "  warn(\n",
      "c:\\Users\\ASUS\\AppData\\Local\\Programs\\Python\\Python310\\lib\\site-packages\\imblearn\\ensemble\\_forest.py:601: FutureWarning: The default of `bootstrap` will change from `True` to `False` in version 0.13. This change will follow the implementation proposed in the original paper. Set to `False` to silence this warning and adopt the future behaviour.\n",
      "  warn(\n",
      "c:\\Users\\ASUS\\AppData\\Local\\Programs\\Python\\Python310\\lib\\site-packages\\imblearn\\ensemble\\_forest.py:577: FutureWarning: The default of `sampling_strategy` will change from `'auto'` to `'all'` in version 0.13. This change will follow the implementation proposed in the original paper. Set to `'all'` to silence this warning and adopt the future behaviour.\n",
      "  warn(\n",
      "c:\\Users\\ASUS\\AppData\\Local\\Programs\\Python\\Python310\\lib\\site-packages\\imblearn\\ensemble\\_forest.py:589: FutureWarning: The default of `replacement` will change from `False` to `True` in version 0.13. This change will follow the implementation proposed in the original paper. Set to `True` to silence this warning and adopt the future behaviour.\n",
      "  warn(\n",
      "c:\\Users\\ASUS\\AppData\\Local\\Programs\\Python\\Python310\\lib\\site-packages\\imblearn\\ensemble\\_forest.py:601: FutureWarning: The default of `bootstrap` will change from `True` to `False` in version 0.13. This change will follow the implementation proposed in the original paper. Set to `False` to silence this warning and adopt the future behaviour.\n",
      "  warn(\n",
      "c:\\Users\\ASUS\\AppData\\Local\\Programs\\Python\\Python310\\lib\\site-packages\\imblearn\\ensemble\\_forest.py:577: FutureWarning: The default of `sampling_strategy` will change from `'auto'` to `'all'` in version 0.13. This change will follow the implementation proposed in the original paper. Set to `'all'` to silence this warning and adopt the future behaviour.\n",
      "  warn(\n",
      "c:\\Users\\ASUS\\AppData\\Local\\Programs\\Python\\Python310\\lib\\site-packages\\imblearn\\ensemble\\_forest.py:589: FutureWarning: The default of `replacement` will change from `False` to `True` in version 0.13. This change will follow the implementation proposed in the original paper. Set to `True` to silence this warning and adopt the future behaviour.\n",
      "  warn(\n",
      "c:\\Users\\ASUS\\AppData\\Local\\Programs\\Python\\Python310\\lib\\site-packages\\imblearn\\ensemble\\_forest.py:601: FutureWarning: The default of `bootstrap` will change from `True` to `False` in version 0.13. This change will follow the implementation proposed in the original paper. Set to `False` to silence this warning and adopt the future behaviour.\n",
      "  warn(\n",
      "c:\\Users\\ASUS\\AppData\\Local\\Programs\\Python\\Python310\\lib\\site-packages\\imblearn\\ensemble\\_forest.py:577: FutureWarning: The default of `sampling_strategy` will change from `'auto'` to `'all'` in version 0.13. This change will follow the implementation proposed in the original paper. Set to `'all'` to silence this warning and adopt the future behaviour.\n",
      "  warn(\n",
      "c:\\Users\\ASUS\\AppData\\Local\\Programs\\Python\\Python310\\lib\\site-packages\\imblearn\\ensemble\\_forest.py:589: FutureWarning: The default of `replacement` will change from `False` to `True` in version 0.13. This change will follow the implementation proposed in the original paper. Set to `True` to silence this warning and adopt the future behaviour.\n",
      "  warn(\n",
      "c:\\Users\\ASUS\\AppData\\Local\\Programs\\Python\\Python310\\lib\\site-packages\\imblearn\\ensemble\\_forest.py:601: FutureWarning: The default of `bootstrap` will change from `True` to `False` in version 0.13. This change will follow the implementation proposed in the original paper. Set to `False` to silence this warning and adopt the future behaviour.\n",
      "  warn(\n"
     ]
    }
   ],
   "source": [
    "gm_scorer = metrics.make_scorer(geometric_mean_score, greater_is_better=True)\n",
    "scores = cross_val_score(rf_model, X_train, y_train, cv=5, scoring=gm_scorer)\n",
    "rf_gmean_cv = scores.mean()"
   ]
  },
  {
   "cell_type": "code",
   "execution_count": 27,
   "id": "3f731336-e8c3-439b-bd0b-52d8e110600c",
   "metadata": {},
   "outputs": [
    {
     "name": "stderr",
     "output_type": "stream",
     "text": [
      "c:\\Users\\ASUS\\AppData\\Local\\Programs\\Python\\Python310\\lib\\site-packages\\imblearn\\ensemble\\_forest.py:577: FutureWarning: The default of `sampling_strategy` will change from `'auto'` to `'all'` in version 0.13. This change will follow the implementation proposed in the original paper. Set to `'all'` to silence this warning and adopt the future behaviour.\n",
      "  warn(\n",
      "c:\\Users\\ASUS\\AppData\\Local\\Programs\\Python\\Python310\\lib\\site-packages\\imblearn\\ensemble\\_forest.py:589: FutureWarning: The default of `replacement` will change from `False` to `True` in version 0.13. This change will follow the implementation proposed in the original paper. Set to `True` to silence this warning and adopt the future behaviour.\n",
      "  warn(\n",
      "c:\\Users\\ASUS\\AppData\\Local\\Programs\\Python\\Python310\\lib\\site-packages\\imblearn\\ensemble\\_forest.py:601: FutureWarning: The default of `bootstrap` will change from `True` to `False` in version 0.13. This change will follow the implementation proposed in the original paper. Set to `False` to silence this warning and adopt the future behaviour.\n",
      "  warn(\n",
      "c:\\Users\\ASUS\\AppData\\Local\\Programs\\Python\\Python310\\lib\\site-packages\\imblearn\\ensemble\\_forest.py:577: FutureWarning: The default of `sampling_strategy` will change from `'auto'` to `'all'` in version 0.13. This change will follow the implementation proposed in the original paper. Set to `'all'` to silence this warning and adopt the future behaviour.\n",
      "  warn(\n",
      "c:\\Users\\ASUS\\AppData\\Local\\Programs\\Python\\Python310\\lib\\site-packages\\imblearn\\ensemble\\_forest.py:589: FutureWarning: The default of `replacement` will change from `False` to `True` in version 0.13. This change will follow the implementation proposed in the original paper. Set to `True` to silence this warning and adopt the future behaviour.\n",
      "  warn(\n",
      "c:\\Users\\ASUS\\AppData\\Local\\Programs\\Python\\Python310\\lib\\site-packages\\imblearn\\ensemble\\_forest.py:601: FutureWarning: The default of `bootstrap` will change from `True` to `False` in version 0.13. This change will follow the implementation proposed in the original paper. Set to `False` to silence this warning and adopt the future behaviour.\n",
      "  warn(\n",
      "c:\\Users\\ASUS\\AppData\\Local\\Programs\\Python\\Python310\\lib\\site-packages\\imblearn\\ensemble\\_forest.py:577: FutureWarning: The default of `sampling_strategy` will change from `'auto'` to `'all'` in version 0.13. This change will follow the implementation proposed in the original paper. Set to `'all'` to silence this warning and adopt the future behaviour.\n",
      "  warn(\n",
      "c:\\Users\\ASUS\\AppData\\Local\\Programs\\Python\\Python310\\lib\\site-packages\\imblearn\\ensemble\\_forest.py:589: FutureWarning: The default of `replacement` will change from `False` to `True` in version 0.13. This change will follow the implementation proposed in the original paper. Set to `True` to silence this warning and adopt the future behaviour.\n",
      "  warn(\n",
      "c:\\Users\\ASUS\\AppData\\Local\\Programs\\Python\\Python310\\lib\\site-packages\\imblearn\\ensemble\\_forest.py:601: FutureWarning: The default of `bootstrap` will change from `True` to `False` in version 0.13. This change will follow the implementation proposed in the original paper. Set to `False` to silence this warning and adopt the future behaviour.\n",
      "  warn(\n",
      "c:\\Users\\ASUS\\AppData\\Local\\Programs\\Python\\Python310\\lib\\site-packages\\imblearn\\ensemble\\_forest.py:577: FutureWarning: The default of `sampling_strategy` will change from `'auto'` to `'all'` in version 0.13. This change will follow the implementation proposed in the original paper. Set to `'all'` to silence this warning and adopt the future behaviour.\n",
      "  warn(\n",
      "c:\\Users\\ASUS\\AppData\\Local\\Programs\\Python\\Python310\\lib\\site-packages\\imblearn\\ensemble\\_forest.py:589: FutureWarning: The default of `replacement` will change from `False` to `True` in version 0.13. This change will follow the implementation proposed in the original paper. Set to `True` to silence this warning and adopt the future behaviour.\n",
      "  warn(\n",
      "c:\\Users\\ASUS\\AppData\\Local\\Programs\\Python\\Python310\\lib\\site-packages\\imblearn\\ensemble\\_forest.py:601: FutureWarning: The default of `bootstrap` will change from `True` to `False` in version 0.13. This change will follow the implementation proposed in the original paper. Set to `False` to silence this warning and adopt the future behaviour.\n",
      "  warn(\n",
      "c:\\Users\\ASUS\\AppData\\Local\\Programs\\Python\\Python310\\lib\\site-packages\\imblearn\\ensemble\\_forest.py:577: FutureWarning: The default of `sampling_strategy` will change from `'auto'` to `'all'` in version 0.13. This change will follow the implementation proposed in the original paper. Set to `'all'` to silence this warning and adopt the future behaviour.\n",
      "  warn(\n",
      "c:\\Users\\ASUS\\AppData\\Local\\Programs\\Python\\Python310\\lib\\site-packages\\imblearn\\ensemble\\_forest.py:589: FutureWarning: The default of `replacement` will change from `False` to `True` in version 0.13. This change will follow the implementation proposed in the original paper. Set to `True` to silence this warning and adopt the future behaviour.\n",
      "  warn(\n",
      "c:\\Users\\ASUS\\AppData\\Local\\Programs\\Python\\Python310\\lib\\site-packages\\imblearn\\ensemble\\_forest.py:601: FutureWarning: The default of `bootstrap` will change from `True` to `False` in version 0.13. This change will follow the implementation proposed in the original paper. Set to `False` to silence this warning and adopt the future behaviour.\n",
      "  warn(\n"
     ]
    }
   ],
   "source": [
    "scores = cross_val_score(rf_model, X_train, y_train, cv=5, scoring='roc_auc')\n",
    "rf_roc_auc_cv = scores.mean()"
   ]
  },
  {
   "cell_type": "markdown",
   "id": "64b3f188-7631-41a2-a0e2-5a09cb1b4e7f",
   "metadata": {},
   "source": [
    "### Metrics on test"
   ]
  },
  {
   "cell_type": "code",
   "execution_count": 28,
   "id": "c4be096d-8986-49df-8b9c-59d28e80b58b",
   "metadata": {},
   "outputs": [
    {
     "data": {
      "text/plain": [
       "array([0.84, 1.  , 0.99, ..., 0.36, 0.64, 0.99])"
      ]
     },
     "execution_count": 28,
     "metadata": {},
     "output_type": "execute_result"
    }
   ],
   "source": [
    "y_probas = rf_model.predict_proba(X_test)[:,1]\n",
    "y_preds = (y_probas >= 0.5).astype('int')\n",
    "y_probas"
   ]
  },
  {
   "cell_type": "code",
   "execution_count": 29,
   "id": "b91d0c04-802f-4dd4-854b-b4433a274034",
   "metadata": {},
   "outputs": [
    {
     "data": {
      "text/plain": [
       "array([[11958,  2048],\n",
       "       [38947, 83332]], dtype=int64)"
      ]
     },
     "execution_count": 29,
     "metadata": {},
     "output_type": "execute_result"
    }
   ],
   "source": [
    "(tn, fp, fn, tp) = metrics.confusion_matrix(y_test, y_preds).ravel()\n",
    "metrics.confusion_matrix(y_test, y_preds)"
   ]
  },
  {
   "cell_type": "code",
   "execution_count": 30,
   "id": "aeefb3d5-1749-4296-b18f-abf84bbe3809",
   "metadata": {},
   "outputs": [],
   "source": [
    "rf_precision_test = tp/(tp + fp)\n",
    "rf_recall_test = tp/(tp + fn)\n",
    "rf_specificity_test = tn/(tn + fp)\n",
    "\n",
    "rf_gmean_test = math.sqrt(rf_recall_test * rf_specificity_test)\n",
    "rf_f1_test = 2*rf_recall_test*rf_precision_test/(rf_recall_test+rf_precision_test)\n",
    "rf_accuracy_test = (tp + tn)/(tp + fp + tn + fn)\n",
    "rf_fpr, rf_tpr, thresholds = roc_curve(y_test, y_probas)\n",
    "rf_roc_auc_test = auc(rf_fpr, rf_tpr)"
   ]
  },
  {
   "cell_type": "code",
   "execution_count": null,
   "id": "8c0b000e-20b4-44b6-8d5f-51649781c7c8",
   "metadata": {},
   "outputs": [],
   "source": []
  },
  {
   "cell_type": "code",
   "execution_count": null,
   "id": "8fc4fba7-0af6-43bd-9d4f-a4cffb534686",
   "metadata": {},
   "outputs": [],
   "source": []
  },
  {
   "cell_type": "code",
   "execution_count": null,
   "id": "d93c02c9-0a48-4368-aa26-afe8a701a0cf",
   "metadata": {},
   "outputs": [],
   "source": []
  },
  {
   "cell_type": "markdown",
   "id": "61de152e-45ad-46b2-8480-a5a7a145485b",
   "metadata": {},
   "source": [
    "## XGBoost"
   ]
  },
  {
   "cell_type": "code",
   "execution_count": 31,
   "id": "e132158b-5a88-4ab7-ba6c-62475d52885b",
   "metadata": {},
   "outputs": [
    {
     "data": {
      "text/plain": [
       "0.11468772675170623"
      ]
     },
     "execution_count": 31,
     "metadata": {},
     "output_type": "execute_result"
    }
   ],
   "source": [
    "neg_per_pos = (len(y_train)-sum(y_train)) / sum(y_train)\n",
    "neg_per_pos"
   ]
  },
  {
   "cell_type": "code",
   "execution_count": 32,
   "id": "9c843408-f609-4a99-9b2c-963266979aac",
   "metadata": {},
   "outputs": [
    {
     "data": {
      "text/html": [
       "<style>#sk-container-id-3 {color: black;}#sk-container-id-3 pre{padding: 0;}#sk-container-id-3 div.sk-toggleable {background-color: white;}#sk-container-id-3 label.sk-toggleable__label {cursor: pointer;display: block;width: 100%;margin-bottom: 0;padding: 0.3em;box-sizing: border-box;text-align: center;}#sk-container-id-3 label.sk-toggleable__label-arrow:before {content: \"▸\";float: left;margin-right: 0.25em;color: #696969;}#sk-container-id-3 label.sk-toggleable__label-arrow:hover:before {color: black;}#sk-container-id-3 div.sk-estimator:hover label.sk-toggleable__label-arrow:before {color: black;}#sk-container-id-3 div.sk-toggleable__content {max-height: 0;max-width: 0;overflow: hidden;text-align: left;background-color: #f0f8ff;}#sk-container-id-3 div.sk-toggleable__content pre {margin: 0.2em;color: black;border-radius: 0.25em;background-color: #f0f8ff;}#sk-container-id-3 input.sk-toggleable__control:checked~div.sk-toggleable__content {max-height: 200px;max-width: 100%;overflow: auto;}#sk-container-id-3 input.sk-toggleable__control:checked~label.sk-toggleable__label-arrow:before {content: \"▾\";}#sk-container-id-3 div.sk-estimator input.sk-toggleable__control:checked~label.sk-toggleable__label {background-color: #d4ebff;}#sk-container-id-3 div.sk-label input.sk-toggleable__control:checked~label.sk-toggleable__label {background-color: #d4ebff;}#sk-container-id-3 input.sk-hidden--visually {border: 0;clip: rect(1px 1px 1px 1px);clip: rect(1px, 1px, 1px, 1px);height: 1px;margin: -1px;overflow: hidden;padding: 0;position: absolute;width: 1px;}#sk-container-id-3 div.sk-estimator {font-family: monospace;background-color: #f0f8ff;border: 1px dotted black;border-radius: 0.25em;box-sizing: border-box;margin-bottom: 0.5em;}#sk-container-id-3 div.sk-estimator:hover {background-color: #d4ebff;}#sk-container-id-3 div.sk-parallel-item::after {content: \"\";width: 100%;border-bottom: 1px solid gray;flex-grow: 1;}#sk-container-id-3 div.sk-label:hover label.sk-toggleable__label {background-color: #d4ebff;}#sk-container-id-3 div.sk-serial::before {content: \"\";position: absolute;border-left: 1px solid gray;box-sizing: border-box;top: 0;bottom: 0;left: 50%;z-index: 0;}#sk-container-id-3 div.sk-serial {display: flex;flex-direction: column;align-items: center;background-color: white;padding-right: 0.2em;padding-left: 0.2em;position: relative;}#sk-container-id-3 div.sk-item {position: relative;z-index: 1;}#sk-container-id-3 div.sk-parallel {display: flex;align-items: stretch;justify-content: center;background-color: white;position: relative;}#sk-container-id-3 div.sk-item::before, #sk-container-id-3 div.sk-parallel-item::before {content: \"\";position: absolute;border-left: 1px solid gray;box-sizing: border-box;top: 0;bottom: 0;left: 50%;z-index: -1;}#sk-container-id-3 div.sk-parallel-item {display: flex;flex-direction: column;z-index: 1;position: relative;background-color: white;}#sk-container-id-3 div.sk-parallel-item:first-child::after {align-self: flex-end;width: 50%;}#sk-container-id-3 div.sk-parallel-item:last-child::after {align-self: flex-start;width: 50%;}#sk-container-id-3 div.sk-parallel-item:only-child::after {width: 0;}#sk-container-id-3 div.sk-dashed-wrapped {border: 1px dashed gray;margin: 0 0.4em 0.5em 0.4em;box-sizing: border-box;padding-bottom: 0.4em;background-color: white;}#sk-container-id-3 div.sk-label label {font-family: monospace;font-weight: bold;display: inline-block;line-height: 1.2em;}#sk-container-id-3 div.sk-label-container {text-align: center;}#sk-container-id-3 div.sk-container {/* jupyter's `normalize.less` sets `[hidden] { display: none; }` but bootstrap.min.css set `[hidden] { display: none !important; }` so we also need the `!important` here to be able to override the default hidden behavior on the sphinx rendered scikit-learn.org. See: https://github.com/scikit-learn/scikit-learn/issues/21755 */display: inline-block !important;position: relative;}#sk-container-id-3 div.sk-text-repr-fallback {display: none;}</style><div id=\"sk-container-id-3\" class=\"sk-top-container\"><div class=\"sk-text-repr-fallback\"><pre>XGBClassifier(base_score=None, booster=None, callbacks=None,\n",
       "              colsample_bylevel=None, colsample_bynode=None,\n",
       "              colsample_bytree=None, device=None, early_stopping_rounds=None,\n",
       "              enable_categorical=False, eval_metric=None, feature_types=None,\n",
       "              gamma=None, grow_policy=None, importance_type=None,\n",
       "              interaction_constraints=None, learning_rate=None, max_bin=None,\n",
       "              max_cat_threshold=None, max_cat_to_onehot=None,\n",
       "              max_delta_step=None, max_depth=None, max_leaves=None,\n",
       "              min_child_weight=None, missing=nan, monotone_constraints=None,\n",
       "              multi_strategy=None, n_estimators=None, n_jobs=None,\n",
       "              num_parallel_tree=None, random_state=None, ...)</pre><b>In a Jupyter environment, please rerun this cell to show the HTML representation or trust the notebook. <br />On GitHub, the HTML representation is unable to render, please try loading this page with nbviewer.org.</b></div><div class=\"sk-container\" hidden><div class=\"sk-item\"><div class=\"sk-estimator sk-toggleable\"><input class=\"sk-toggleable__control sk-hidden--visually\" id=\"sk-estimator-id-3\" type=\"checkbox\" checked><label for=\"sk-estimator-id-3\" class=\"sk-toggleable__label sk-toggleable__label-arrow\">XGBClassifier</label><div class=\"sk-toggleable__content\"><pre>XGBClassifier(base_score=None, booster=None, callbacks=None,\n",
       "              colsample_bylevel=None, colsample_bynode=None,\n",
       "              colsample_bytree=None, device=None, early_stopping_rounds=None,\n",
       "              enable_categorical=False, eval_metric=None, feature_types=None,\n",
       "              gamma=None, grow_policy=None, importance_type=None,\n",
       "              interaction_constraints=None, learning_rate=None, max_bin=None,\n",
       "              max_cat_threshold=None, max_cat_to_onehot=None,\n",
       "              max_delta_step=None, max_depth=None, max_leaves=None,\n",
       "              min_child_weight=None, missing=nan, monotone_constraints=None,\n",
       "              multi_strategy=None, n_estimators=None, n_jobs=None,\n",
       "              num_parallel_tree=None, random_state=None, ...)</pre></div></div></div></div></div>"
      ],
      "text/plain": [
       "XGBClassifier(base_score=None, booster=None, callbacks=None,\n",
       "              colsample_bylevel=None, colsample_bynode=None,\n",
       "              colsample_bytree=None, device=None, early_stopping_rounds=None,\n",
       "              enable_categorical=False, eval_metric=None, feature_types=None,\n",
       "              gamma=None, grow_policy=None, importance_type=None,\n",
       "              interaction_constraints=None, learning_rate=None, max_bin=None,\n",
       "              max_cat_threshold=None, max_cat_to_onehot=None,\n",
       "              max_delta_step=None, max_depth=None, max_leaves=None,\n",
       "              min_child_weight=None, missing=nan, monotone_constraints=None,\n",
       "              multi_strategy=None, n_estimators=None, n_jobs=None,\n",
       "              num_parallel_tree=None, random_state=None, ...)"
      ]
     },
     "execution_count": 32,
     "metadata": {},
     "output_type": "execute_result"
    }
   ],
   "source": [
    "xgb_model = xgb.XGBClassifier(scale_pos_weight=neg_per_pos)\n",
    "xgb_model.fit(X_train, y_train)"
   ]
  },
  {
   "cell_type": "markdown",
   "id": "bd62eb3d-5b38-47a6-a1c9-ba099cf7a109",
   "metadata": {},
   "source": [
    "### Metrics on train"
   ]
  },
  {
   "cell_type": "code",
   "execution_count": 33,
   "id": "61229df3-2925-4579-8d39-f416750c40d3",
   "metadata": {},
   "outputs": [
    {
     "data": {
      "text/plain": [
       "array([0.99780375, 0.6138583 , 0.34741628, ..., 0.99483573, 0.20531087,\n",
       "       0.33439308], dtype=float32)"
      ]
     },
     "execution_count": 33,
     "metadata": {},
     "output_type": "execute_result"
    }
   ],
   "source": [
    "y_probas = xgb_model.predict_proba(X_train)[:,1]\n",
    "y_preds = (y_probas >= 0.5).astype('int')\n",
    "y_probas"
   ]
  },
  {
   "cell_type": "code",
   "execution_count": 34,
   "id": "eb08bfab-ff5c-47b4-9171-c6bf6ef0d58d",
   "metadata": {},
   "outputs": [
    {
     "data": {
      "text/plain": [
       "array([[ 29146,   3572],\n",
       "       [ 81490, 203789]], dtype=int64)"
      ]
     },
     "execution_count": 34,
     "metadata": {},
     "output_type": "execute_result"
    }
   ],
   "source": [
    "(tn, fp, fn, tp) = metrics.confusion_matrix(y_train, y_preds).ravel()\n",
    "metrics.confusion_matrix(y_train, y_preds)"
   ]
  },
  {
   "cell_type": "code",
   "execution_count": 35,
   "id": "3150aeb6-97c8-4d17-843c-95a2acef72a8",
   "metadata": {},
   "outputs": [],
   "source": [
    "xgb_precision_train = tp/(tp + fp)\n",
    "xgb_recall_train = tp/(tp + fn)\n",
    "xgb_specificity_train = tn/(tn + fp)\n",
    "\n",
    "xgb_gmean_train = math.sqrt(xgb_recall_train * xgb_specificity_train)\n",
    "xgb_f1_train = 2*xgb_recall_train*xgb_precision_train/(xgb_recall_train+xgb_precision_train)\n",
    "xgb_accuracy_train = (tp + tn)/(tp + fp + tn + fn)\n",
    "fpr, tpr, thresholds = roc_curve(y_train, y_probas)\n",
    "xgb_roc_auc_train = auc(fpr, tpr)"
   ]
  },
  {
   "cell_type": "markdown",
   "id": "88de56d3-5f31-4f94-b00b-e9393ea5e792",
   "metadata": {},
   "source": [
    "### Cross validation"
   ]
  },
  {
   "cell_type": "code",
   "execution_count": 36,
   "id": "08413840-7e99-4dae-995c-588f69c2e7eb",
   "metadata": {},
   "outputs": [],
   "source": [
    "gm_scorer = metrics.make_scorer(geometric_mean_score, greater_is_better=True)\n",
    "scores = cross_val_score(xgb_model, X_train, y_train, cv=5, scoring=gm_scorer)\n",
    "xgb_gmean_cv = scores.mean()"
   ]
  },
  {
   "cell_type": "code",
   "execution_count": 37,
   "id": "d7baccd6-b6b4-434d-b6d0-5e5e720263e9",
   "metadata": {},
   "outputs": [],
   "source": [
    "scores = cross_val_score(xgb_model, X_train, y_train, cv=5, scoring='roc_auc')\n",
    "xgb_roc_auc_cv = scores.mean()"
   ]
  },
  {
   "cell_type": "markdown",
   "id": "f486ddfb-9541-426e-bb28-cdb817c89673",
   "metadata": {},
   "source": [
    "### Metrics on test"
   ]
  },
  {
   "cell_type": "code",
   "execution_count": 38,
   "id": "4b50093a-da66-4ecd-892f-88656f02d6a1",
   "metadata": {},
   "outputs": [
    {
     "data": {
      "text/plain": [
       "array([0.925041  , 0.99600804, 0.9203835 , ..., 0.31892794, 0.5616797 ,\n",
       "       0.9912375 ], dtype=float32)"
      ]
     },
     "execution_count": 38,
     "metadata": {},
     "output_type": "execute_result"
    }
   ],
   "source": [
    "y_probas = xgb_model.predict_proba(X_test)[:,1]\n",
    "y_preds = (y_probas >= 0.5).astype('int')\n",
    "y_probas"
   ]
  },
  {
   "cell_type": "code",
   "execution_count": 39,
   "id": "b19df171-0ff0-4724-b90b-b33c5f656e06",
   "metadata": {},
   "outputs": [
    {
     "data": {
      "text/plain": [
       "array([[11627,  2379],\n",
       "       [35771, 86508]], dtype=int64)"
      ]
     },
     "execution_count": 39,
     "metadata": {},
     "output_type": "execute_result"
    }
   ],
   "source": [
    "(tn, fp, fn, tp) = metrics.confusion_matrix(y_test, y_preds).ravel()\n",
    "metrics.confusion_matrix(y_test, y_preds)"
   ]
  },
  {
   "cell_type": "code",
   "execution_count": null,
   "id": "ce6e29f6-b061-4278-befc-5a43fffc6389",
   "metadata": {},
   "outputs": [],
   "source": []
  },
  {
   "cell_type": "code",
   "execution_count": 40,
   "id": "9acda69d-5e5a-4f75-911f-a76f6387061e",
   "metadata": {},
   "outputs": [],
   "source": [
    "xgb_precision_test = tp/(tp + fp)\n",
    "xgb_recall_test = tp/(tp + fn)\n",
    "xgb_specificity_test = tn/(tn + fp)\n",
    "\n",
    "xgb_gmean_test = math.sqrt(xgb_recall_test * xgb_specificity_test)\n",
    "xgb_f1_test = 2*xgb_recall_test*xgb_precision_test/(xgb_recall_test+xgb_precision_test)\n",
    "xgb_accuracy_test = (tp + tn)/(tp + fp + tn + fn)\n",
    "xgb_fpr, xgb_tpr, thresholds = roc_curve(y_test, y_probas)\n",
    "xgb_roc_auc_test = auc(xgb_fpr, xgb_tpr)"
   ]
  },
  {
   "cell_type": "code",
   "execution_count": null,
   "id": "3b142efb-10e2-4801-a3b4-3c591e03fad7",
   "metadata": {},
   "outputs": [],
   "source": []
  },
  {
   "cell_type": "code",
   "execution_count": null,
   "id": "10bf88b8-ce1d-462c-ac50-6c6b0981254c",
   "metadata": {},
   "outputs": [],
   "source": []
  },
  {
   "cell_type": "markdown",
   "id": "bc2503fe-a7d2-476f-bc33-37ecf3a3c726",
   "metadata": {},
   "source": [
    "## SMOTE + XGB"
   ]
  },
  {
   "cell_type": "code",
   "execution_count": 41,
   "id": "e5cff3cf-8752-493d-8ce3-7abfc3cbec30",
   "metadata": {},
   "outputs": [],
   "source": [
    "oversample = SMOTE()\n",
    "over_X, over_y = oversample.fit_resample(X_train, y_train)\n",
    "\n",
    "over_X_train, over_y_train = over_X, over_y\n",
    "over_X_test, over_y_test = X_test, y_test"
   ]
  },
  {
   "cell_type": "code",
   "execution_count": 42,
   "id": "134abd07-e0be-4ad2-b399-998ad5c8b758",
   "metadata": {},
   "outputs": [
    {
     "data": {
      "text/html": [
       "<style>#sk-container-id-4 {color: black;}#sk-container-id-4 pre{padding: 0;}#sk-container-id-4 div.sk-toggleable {background-color: white;}#sk-container-id-4 label.sk-toggleable__label {cursor: pointer;display: block;width: 100%;margin-bottom: 0;padding: 0.3em;box-sizing: border-box;text-align: center;}#sk-container-id-4 label.sk-toggleable__label-arrow:before {content: \"▸\";float: left;margin-right: 0.25em;color: #696969;}#sk-container-id-4 label.sk-toggleable__label-arrow:hover:before {color: black;}#sk-container-id-4 div.sk-estimator:hover label.sk-toggleable__label-arrow:before {color: black;}#sk-container-id-4 div.sk-toggleable__content {max-height: 0;max-width: 0;overflow: hidden;text-align: left;background-color: #f0f8ff;}#sk-container-id-4 div.sk-toggleable__content pre {margin: 0.2em;color: black;border-radius: 0.25em;background-color: #f0f8ff;}#sk-container-id-4 input.sk-toggleable__control:checked~div.sk-toggleable__content {max-height: 200px;max-width: 100%;overflow: auto;}#sk-container-id-4 input.sk-toggleable__control:checked~label.sk-toggleable__label-arrow:before {content: \"▾\";}#sk-container-id-4 div.sk-estimator input.sk-toggleable__control:checked~label.sk-toggleable__label {background-color: #d4ebff;}#sk-container-id-4 div.sk-label input.sk-toggleable__control:checked~label.sk-toggleable__label {background-color: #d4ebff;}#sk-container-id-4 input.sk-hidden--visually {border: 0;clip: rect(1px 1px 1px 1px);clip: rect(1px, 1px, 1px, 1px);height: 1px;margin: -1px;overflow: hidden;padding: 0;position: absolute;width: 1px;}#sk-container-id-4 div.sk-estimator {font-family: monospace;background-color: #f0f8ff;border: 1px dotted black;border-radius: 0.25em;box-sizing: border-box;margin-bottom: 0.5em;}#sk-container-id-4 div.sk-estimator:hover {background-color: #d4ebff;}#sk-container-id-4 div.sk-parallel-item::after {content: \"\";width: 100%;border-bottom: 1px solid gray;flex-grow: 1;}#sk-container-id-4 div.sk-label:hover label.sk-toggleable__label {background-color: #d4ebff;}#sk-container-id-4 div.sk-serial::before {content: \"\";position: absolute;border-left: 1px solid gray;box-sizing: border-box;top: 0;bottom: 0;left: 50%;z-index: 0;}#sk-container-id-4 div.sk-serial {display: flex;flex-direction: column;align-items: center;background-color: white;padding-right: 0.2em;padding-left: 0.2em;position: relative;}#sk-container-id-4 div.sk-item {position: relative;z-index: 1;}#sk-container-id-4 div.sk-parallel {display: flex;align-items: stretch;justify-content: center;background-color: white;position: relative;}#sk-container-id-4 div.sk-item::before, #sk-container-id-4 div.sk-parallel-item::before {content: \"\";position: absolute;border-left: 1px solid gray;box-sizing: border-box;top: 0;bottom: 0;left: 50%;z-index: -1;}#sk-container-id-4 div.sk-parallel-item {display: flex;flex-direction: column;z-index: 1;position: relative;background-color: white;}#sk-container-id-4 div.sk-parallel-item:first-child::after {align-self: flex-end;width: 50%;}#sk-container-id-4 div.sk-parallel-item:last-child::after {align-self: flex-start;width: 50%;}#sk-container-id-4 div.sk-parallel-item:only-child::after {width: 0;}#sk-container-id-4 div.sk-dashed-wrapped {border: 1px dashed gray;margin: 0 0.4em 0.5em 0.4em;box-sizing: border-box;padding-bottom: 0.4em;background-color: white;}#sk-container-id-4 div.sk-label label {font-family: monospace;font-weight: bold;display: inline-block;line-height: 1.2em;}#sk-container-id-4 div.sk-label-container {text-align: center;}#sk-container-id-4 div.sk-container {/* jupyter's `normalize.less` sets `[hidden] { display: none; }` but bootstrap.min.css set `[hidden] { display: none !important; }` so we also need the `!important` here to be able to override the default hidden behavior on the sphinx rendered scikit-learn.org. See: https://github.com/scikit-learn/scikit-learn/issues/21755 */display: inline-block !important;position: relative;}#sk-container-id-4 div.sk-text-repr-fallback {display: none;}</style><div id=\"sk-container-id-4\" class=\"sk-top-container\"><div class=\"sk-text-repr-fallback\"><pre>XGBClassifier(base_score=None, booster=None, callbacks=None,\n",
       "              colsample_bylevel=None, colsample_bynode=None,\n",
       "              colsample_bytree=None, device=None, early_stopping_rounds=None,\n",
       "              enable_categorical=False, eval_metric=None, feature_types=None,\n",
       "              gamma=None, grow_policy=None, importance_type=None,\n",
       "              interaction_constraints=None, learning_rate=None, max_bin=None,\n",
       "              max_cat_threshold=None, max_cat_to_onehot=None,\n",
       "              max_delta_step=None, max_depth=None, max_leaves=None,\n",
       "              min_child_weight=None, missing=nan, monotone_constraints=None,\n",
       "              multi_strategy=None, n_estimators=None, n_jobs=None,\n",
       "              num_parallel_tree=None, random_state=None, ...)</pre><b>In a Jupyter environment, please rerun this cell to show the HTML representation or trust the notebook. <br />On GitHub, the HTML representation is unable to render, please try loading this page with nbviewer.org.</b></div><div class=\"sk-container\" hidden><div class=\"sk-item\"><div class=\"sk-estimator sk-toggleable\"><input class=\"sk-toggleable__control sk-hidden--visually\" id=\"sk-estimator-id-4\" type=\"checkbox\" checked><label for=\"sk-estimator-id-4\" class=\"sk-toggleable__label sk-toggleable__label-arrow\">XGBClassifier</label><div class=\"sk-toggleable__content\"><pre>XGBClassifier(base_score=None, booster=None, callbacks=None,\n",
       "              colsample_bylevel=None, colsample_bynode=None,\n",
       "              colsample_bytree=None, device=None, early_stopping_rounds=None,\n",
       "              enable_categorical=False, eval_metric=None, feature_types=None,\n",
       "              gamma=None, grow_policy=None, importance_type=None,\n",
       "              interaction_constraints=None, learning_rate=None, max_bin=None,\n",
       "              max_cat_threshold=None, max_cat_to_onehot=None,\n",
       "              max_delta_step=None, max_depth=None, max_leaves=None,\n",
       "              min_child_weight=None, missing=nan, monotone_constraints=None,\n",
       "              multi_strategy=None, n_estimators=None, n_jobs=None,\n",
       "              num_parallel_tree=None, random_state=None, ...)</pre></div></div></div></div></div>"
      ],
      "text/plain": [
       "XGBClassifier(base_score=None, booster=None, callbacks=None,\n",
       "              colsample_bylevel=None, colsample_bynode=None,\n",
       "              colsample_bytree=None, device=None, early_stopping_rounds=None,\n",
       "              enable_categorical=False, eval_metric=None, feature_types=None,\n",
       "              gamma=None, grow_policy=None, importance_type=None,\n",
       "              interaction_constraints=None, learning_rate=None, max_bin=None,\n",
       "              max_cat_threshold=None, max_cat_to_onehot=None,\n",
       "              max_delta_step=None, max_depth=None, max_leaves=None,\n",
       "              min_child_weight=None, missing=nan, monotone_constraints=None,\n",
       "              multi_strategy=None, n_estimators=None, n_jobs=None,\n",
       "              num_parallel_tree=None, random_state=None, ...)"
      ]
     },
     "execution_count": 42,
     "metadata": {},
     "output_type": "execute_result"
    }
   ],
   "source": [
    "smote_xgb_model = xgb.XGBClassifier()\n",
    "smote_xgb_model.fit(over_X_train, over_y_train)"
   ]
  },
  {
   "cell_type": "markdown",
   "id": "d7768e62-a662-4ecf-9a6f-4901e5eb3571",
   "metadata": {},
   "source": [
    "### Metrics on train"
   ]
  },
  {
   "cell_type": "code",
   "execution_count": 43,
   "id": "ed0175f4-18da-458a-84d7-ba74ea28df93",
   "metadata": {},
   "outputs": [
    {
     "data": {
      "text/plain": [
       "array([0.99886394, 0.88575256, 0.8399492 , ..., 0.8586093 , 0.00916479,\n",
       "       0.0033316 ], dtype=float32)"
      ]
     },
     "execution_count": 43,
     "metadata": {},
     "output_type": "execute_result"
    }
   ],
   "source": [
    "y_probas = smote_xgb_model.predict_proba(over_X_train)[:,1]\n",
    "y_preds = (y_probas >= 0.5).astype('int')\n",
    "y_probas"
   ]
  },
  {
   "cell_type": "code",
   "execution_count": 44,
   "id": "803e6c6c-e8f9-4390-9181-33c55b96b27f",
   "metadata": {},
   "outputs": [
    {
     "data": {
      "text/plain": [
       "array([[242367,  42912],\n",
       "       [ 24537, 260742]], dtype=int64)"
      ]
     },
     "execution_count": 44,
     "metadata": {},
     "output_type": "execute_result"
    }
   ],
   "source": [
    "(tn, fp, fn, tp) = metrics.confusion_matrix(over_y_train, y_preds).ravel()\n",
    "metrics.confusion_matrix(over_y_train, y_preds)"
   ]
  },
  {
   "cell_type": "code",
   "execution_count": 45,
   "id": "ffa36a57-196c-4ed1-9101-79f2d8609f3c",
   "metadata": {},
   "outputs": [],
   "source": [
    "smote_xgb_precision_train = tp/(tp + fp)\n",
    "smote_xgb_recall_train = tp/(tp + fn)\n",
    "smote_xgb_specificity_train = tn/(tn + fp)\n",
    "\n",
    "smote_xgb_gmean_train = math.sqrt(smote_xgb_recall_train * smote_xgb_specificity_train)\n",
    "smote_xgb_f1_train = 2*smote_xgb_recall_train*smote_xgb_precision_train/(smote_xgb_recall_train+smote_xgb_precision_train)\n",
    "smote_xgb_accuracy_train = (tp + tn)/(tp + fp + tn + fn)\n",
    "fpr, tpr, thresholds = roc_curve(over_y_train, y_probas)\n",
    "smote_xgb_roc_auc_train = auc(fpr, tpr)"
   ]
  },
  {
   "cell_type": "markdown",
   "id": "1ebad9f5-231e-469c-b64c-a073e541ea9d",
   "metadata": {},
   "source": [
    "### Cross validation"
   ]
  },
  {
   "cell_type": "code",
   "execution_count": 46,
   "id": "74e47f82-ff5c-4689-bef5-d90ec3e5487e",
   "metadata": {},
   "outputs": [],
   "source": [
    "gm_scorer = metrics.make_scorer(geometric_mean_score, greater_is_better=True)\n",
    "scores = cross_val_score(smote_xgb_model, over_X_train, over_y_train, cv=5, scoring=gm_scorer)\n",
    "smote_xgb_gmean_cv = scores.mean()"
   ]
  },
  {
   "cell_type": "code",
   "execution_count": 47,
   "id": "3b4339bc-e2ba-4b5c-a9a7-242486f10ada",
   "metadata": {},
   "outputs": [],
   "source": [
    "scores = cross_val_score(smote_xgb_model, over_X_train, over_y_train, cv=5, scoring='roc_auc')\n",
    "smote_xgb_roc_auc_cv = scores.mean()"
   ]
  },
  {
   "cell_type": "markdown",
   "id": "44e5af6c-21ff-4855-a394-da980e7b4d30",
   "metadata": {},
   "source": [
    "### Metrics on test"
   ]
  },
  {
   "cell_type": "code",
   "execution_count": 48,
   "id": "61ae153d-3c4b-4840-af4d-aa21c36c4103",
   "metadata": {},
   "outputs": [
    {
     "data": {
      "text/plain": [
       "array([0.9823934 , 0.99669313, 0.9282998 , ..., 0.46777505, 0.91937315,\n",
       "       0.99670947], dtype=float32)"
      ]
     },
     "execution_count": 48,
     "metadata": {},
     "output_type": "execute_result"
    }
   ],
   "source": [
    "y_probas = smote_xgb_model.predict_proba(over_X_test)[:,1]\n",
    "y_preds = (y_probas >= 0.5).astype('int')\n",
    "y_probas"
   ]
  },
  {
   "cell_type": "code",
   "execution_count": 49,
   "id": "57cde710-f992-4507-a821-40c18e21da1f",
   "metadata": {},
   "outputs": [
    {
     "data": {
      "text/plain": [
       "array([[  5644,   8362],\n",
       "       [ 11247, 111032]], dtype=int64)"
      ]
     },
     "execution_count": 49,
     "metadata": {},
     "output_type": "execute_result"
    }
   ],
   "source": [
    "(tn, fp, fn, tp) = metrics.confusion_matrix(over_y_test, y_preds).ravel()\n",
    "metrics.confusion_matrix(over_y_test, y_preds)"
   ]
  },
  {
   "cell_type": "code",
   "execution_count": 50,
   "id": "29c214ba-4fab-4158-a117-2c5a8681b0b0",
   "metadata": {},
   "outputs": [],
   "source": [
    "smote_xgb_precision_test = tp/(tp + fp)\n",
    "smote_xgb_recall_test = tp/(tp + fn)\n",
    "smote_xgb_specificity_test = tn/(tn + fp)\n",
    "\n",
    "smote_xgb_gmean_test = math.sqrt(smote_xgb_recall_test * smote_xgb_specificity_test)\n",
    "smote_xgb_f1_test = 2*smote_xgb_recall_test*smote_xgb_precision_test/(smote_xgb_recall_test+smote_xgb_precision_test)\n",
    "smote_xgb_accuracy_test = (tp + tn)/(tp + fp + tn + fn)\n",
    "smote_xgb_fpr, smote_xgb_tpr, thresholds = roc_curve(over_y_test, y_probas)\n",
    "smote_xgb_roc_auc_test = auc(smote_xgb_fpr, smote_xgb_tpr)"
   ]
  },
  {
   "cell_type": "code",
   "execution_count": null,
   "id": "5252edcc-7bc8-4e46-927d-3e09f35a0897",
   "metadata": {},
   "outputs": [],
   "source": []
  },
  {
   "cell_type": "code",
   "execution_count": null,
   "id": "bb1aca56-fdf8-46e4-bdff-0a176d047628",
   "metadata": {},
   "outputs": [],
   "source": []
  },
  {
   "cell_type": "markdown",
   "id": "37c98503-026e-4936-bad9-93b72be03347",
   "metadata": {},
   "source": [
    "# Model Evaluation"
   ]
  },
  {
   "cell_type": "markdown",
   "id": "f920d18f-2a80-4751-8a11-cf862d61eee6",
   "metadata": {},
   "source": [
    "## Performance"
   ]
  },
  {
   "cell_type": "code",
   "execution_count": 51,
   "id": "1f8aeca4-fd2b-4758-831b-f2268fc5872b",
   "metadata": {},
   "outputs": [
    {
     "data": {
      "text/html": [
       "<div>\n",
       "<style scoped>\n",
       "    .dataframe tbody tr th:only-of-type {\n",
       "        vertical-align: middle;\n",
       "    }\n",
       "\n",
       "    .dataframe tbody tr th {\n",
       "        vertical-align: top;\n",
       "    }\n",
       "\n",
       "    .dataframe thead tr th {\n",
       "        text-align: left;\n",
       "    }\n",
       "</style>\n",
       "<table border=\"1\" class=\"dataframe\">\n",
       "  <thead>\n",
       "    <tr>\n",
       "      <th>Set</th>\n",
       "      <th colspan=\"2\" halign=\"left\">Train</th>\n",
       "      <th colspan=\"2\" halign=\"left\">CV</th>\n",
       "      <th colspan=\"2\" halign=\"left\">Test</th>\n",
       "    </tr>\n",
       "    <tr>\n",
       "      <th>Metric</th>\n",
       "      <th>G-mean</th>\n",
       "      <th>ROC AUC</th>\n",
       "      <th>G-mean</th>\n",
       "      <th>ROC AUC</th>\n",
       "      <th>G-mean</th>\n",
       "      <th>ROC AUC</th>\n",
       "    </tr>\n",
       "  </thead>\n",
       "  <tbody>\n",
       "    <tr>\n",
       "      <th>Decision Tree</th>\n",
       "      <td>1.000000</td>\n",
       "      <td>1.000000</td>\n",
       "      <td>0.527350</td>\n",
       "      <td>0.606748</td>\n",
       "      <td>0.526873</td>\n",
       "      <td>0.604631</td>\n",
       "    </tr>\n",
       "    <tr>\n",
       "      <th>Random Forest</th>\n",
       "      <td>0.850709</td>\n",
       "      <td>0.991596</td>\n",
       "      <td>0.758007</td>\n",
       "      <td>0.849039</td>\n",
       "      <td>0.762785</td>\n",
       "      <td>0.849412</td>\n",
       "    </tr>\n",
       "    <tr>\n",
       "      <th>XGBoost</th>\n",
       "      <td>0.797722</td>\n",
       "      <td>0.884796</td>\n",
       "      <td>0.763750</td>\n",
       "      <td>0.853136</td>\n",
       "      <td>0.766353</td>\n",
       "      <td>0.853231</td>\n",
       "    </tr>\n",
       "    <tr>\n",
       "      <th>SMOTE+XGB</th>\n",
       "      <td>0.881196</td>\n",
       "      <td>0.961123</td>\n",
       "      <td>0.861595</td>\n",
       "      <td>0.953972</td>\n",
       "      <td>0.604901</td>\n",
       "      <td>0.830997</td>\n",
       "    </tr>\n",
       "  </tbody>\n",
       "</table>\n",
       "</div>"
      ],
      "text/plain": [
       "Set               Train                  CV                Test          \n",
       "Metric           G-mean   ROC AUC    G-mean   ROC AUC    G-mean   ROC AUC\n",
       "Decision Tree  1.000000  1.000000  0.527350  0.606748  0.526873  0.604631\n",
       "Random Forest  0.850709  0.991596  0.758007  0.849039  0.762785  0.849412\n",
       "XGBoost        0.797722  0.884796  0.763750  0.853136  0.766353  0.853231\n",
       "SMOTE+XGB      0.881196  0.961123  0.861595  0.953972  0.604901  0.830997"
      ]
     },
     "execution_count": 51,
     "metadata": {},
     "output_type": "execute_result"
    }
   ],
   "source": [
    "eval_arr = [[dt_gmean_train, dt_roc_auc_train, dt_gmean_cv, dt_roc_auc_cv, dt_gmean_test, dt_roc_auc_test],\n",
    "            [rf_gmean_train, rf_roc_auc_train, rf_gmean_cv, rf_roc_auc_cv, rf_gmean_test, rf_roc_auc_test],\n",
    "            [xgb_gmean_train, xgb_roc_auc_train, xgb_gmean_cv, xgb_roc_auc_cv, xgb_gmean_test, xgb_roc_auc_test],\n",
    "            [smote_xgb_gmean_train, smote_xgb_roc_auc_train, smote_xgb_gmean_cv, smote_xgb_roc_auc_cv, smote_xgb_gmean_test, smote_xgb_roc_auc_test]]\n",
    "\n",
    "columns = pd.MultiIndex.from_product(\n",
    "    [[\"Train\", \"CV\", \"Test\"], [\"G-mean\", \"ROC AUC\"]],\n",
    "    names=[\"Set\", \"Metric\"]\n",
    ")\n",
    "\n",
    "index = [\"Decision Tree\", \"Random Forest\", \"XGBoost\", \"SMOTE+XGB\"]\n",
    "\n",
    "eval_df = pd.DataFrame(eval_arr, columns=columns, index=index)\n",
    "\n",
    "eval_df"
   ]
  },
  {
   "cell_type": "code",
   "execution_count": 52,
   "id": "c75711a1-e1f7-4a59-a0a8-2a3fe82bfa9f",
   "metadata": {},
   "outputs": [
    {
     "data": {
      "text/html": [
       "<div>\n",
       "<style scoped>\n",
       "    .dataframe tbody tr th:only-of-type {\n",
       "        vertical-align: middle;\n",
       "    }\n",
       "\n",
       "    .dataframe tbody tr th {\n",
       "        vertical-align: top;\n",
       "    }\n",
       "\n",
       "    .dataframe thead tr th {\n",
       "        text-align: left;\n",
       "    }\n",
       "</style>\n",
       "<table border=\"1\" class=\"dataframe\">\n",
       "  <thead>\n",
       "    <tr>\n",
       "      <th>Set</th>\n",
       "      <th colspan=\"2\" halign=\"left\">Train</th>\n",
       "      <th colspan=\"2\" halign=\"left\">CV</th>\n",
       "      <th colspan=\"2\" halign=\"left\">Test</th>\n",
       "    </tr>\n",
       "    <tr>\n",
       "      <th>Metric</th>\n",
       "      <th>G-mean</th>\n",
       "      <th>ROC AUC</th>\n",
       "      <th>G-mean</th>\n",
       "      <th>ROC AUC</th>\n",
       "      <th>G-mean</th>\n",
       "      <th>ROC AUC</th>\n",
       "    </tr>\n",
       "  </thead>\n",
       "  <tbody>\n",
       "    <tr>\n",
       "      <th>Decision Tree</th>\n",
       "      <td>100.00</td>\n",
       "      <td>100.00</td>\n",
       "      <td>52.73</td>\n",
       "      <td>60.67</td>\n",
       "      <td>52.69</td>\n",
       "      <td>60.46</td>\n",
       "    </tr>\n",
       "    <tr>\n",
       "      <th>Random Forest</th>\n",
       "      <td>85.07</td>\n",
       "      <td>99.16</td>\n",
       "      <td>75.80</td>\n",
       "      <td>84.90</td>\n",
       "      <td>76.28</td>\n",
       "      <td>84.94</td>\n",
       "    </tr>\n",
       "    <tr>\n",
       "      <th>XGBoost</th>\n",
       "      <td>79.77</td>\n",
       "      <td>88.48</td>\n",
       "      <td>76.37</td>\n",
       "      <td>85.31</td>\n",
       "      <td>76.64</td>\n",
       "      <td>85.32</td>\n",
       "    </tr>\n",
       "    <tr>\n",
       "      <th>SMOTE+XGB</th>\n",
       "      <td>88.12</td>\n",
       "      <td>96.11</td>\n",
       "      <td>86.16</td>\n",
       "      <td>95.40</td>\n",
       "      <td>60.49</td>\n",
       "      <td>83.10</td>\n",
       "    </tr>\n",
       "  </tbody>\n",
       "</table>\n",
       "</div>"
      ],
      "text/plain": [
       "Set             Train             CV           Test        \n",
       "Metric         G-mean ROC AUC G-mean ROC AUC G-mean ROC AUC\n",
       "Decision Tree  100.00  100.00  52.73   60.67  52.69   60.46\n",
       "Random Forest   85.07   99.16  75.80   84.90  76.28   84.94\n",
       "XGBoost         79.77   88.48  76.37   85.31  76.64   85.32\n",
       "SMOTE+XGB       88.12   96.11  86.16   95.40  60.49   83.10"
      ]
     },
     "execution_count": 52,
     "metadata": {},
     "output_type": "execute_result"
    }
   ],
   "source": [
    "def convert_to_percentage(value):\n",
    "    try:\n",
    "        return round(float(value) * 100, 2)\n",
    "    except ValueError:\n",
    "        return value\n",
    "\n",
    "pct_eval_df = eval_df.applymap(convert_to_percentage)\n",
    "pct_eval_df"
   ]
  },
  {
   "cell_type": "code",
   "execution_count": 53,
   "id": "c160269b-823b-4d31-9b3a-50cfb399fee2",
   "metadata": {},
   "outputs": [
    {
     "data": {
      "image/png": "[encoded data removed]",
      "text/plain": [
       "<Figure size 640x480 with 1 Axes>"
      ]
     },
     "metadata": {},
     "output_type": "display_data"
    }
   ],
   "source": [
    "# Calculate ROC curve\n",
    "fpr, tpr, thresholds = roc_curve(y_test, y_probas) \n",
    "roc_auc = auc(fpr, tpr)\n",
    "# Plot the ROC curve\n",
    "plt.figure()  \n",
    "plt.plot(dt_fpr, dt_tpr, label='Decision Tree ROC (area = %0.3f)' % dt_roc_auc_test)\n",
    "plt.plot(rf_fpr, rf_tpr, label='Random Forest ROC (area = %0.3f)' % rf_roc_auc_test)\n",
    "plt.plot(xgb_fpr, xgb_tpr, label='XGBoost ROC (area = %0.3f)' % xgb_roc_auc_test)\n",
    "plt.plot(smote_xgb_fpr, smote_xgb_tpr, label='SMOTE + XGBoost ROC (area = %0.3f)' % smote_xgb_roc_auc_test)\n",
    "plt.plot([0, 1], [0, 1], 'k--', label='No Skill')\n",
    "plt.xlim([0.0, 1.0])\n",
    "plt.ylim([0.0, 1.05])\n",
    "plt.xlabel('False Positive Rate')\n",
    "plt.ylabel('True Positive Rate')\n",
    "plt.legend()\n",
    "plt.show()"
   ]
  },
  {
   "cell_type": "markdown",
   "id": "2f721a7c-76dd-4f78-977a-08b5ccd5266d",
   "metadata": {},
   "source": [
    "## Robustness"
   ]
  },
  {
   "cell_type": "markdown",
   "id": "1fb9338f-86fc-4c64-ba84-5dd2eb882d6c",
   "metadata": {},
   "source": [
    "Compare again with different splitting"
   ]
  },
  {
   "cell_type": "code",
   "execution_count": null,
   "id": "c1b378d0-dca6-4b6c-8008-7472f2dbafba",
   "metadata": {},
   "outputs": [],
   "source": []
  },
  {
   "cell_type": "code",
   "execution_count": null,
   "id": "218150cc-9288-4e8e-9aa2-0fae4609f947",
   "metadata": {},
   "outputs": [],
   "source": []
  },
  {
   "cell_type": "code",
   "execution_count": null,
   "id": "f05add44-88c3-4903-903b-05174992406e",
   "metadata": {},
   "outputs": [],
   "source": []
  },
  {
   "cell_type": "markdown",
   "id": "4f7619d2-0784-46ce-9a3f-787125d9cb0f",
   "metadata": {},
   "source": [
    "# Parameter tuning"
   ]
  },
  {
   "cell_type": "code",
   "execution_count": 54,
   "id": "8777a4a1-4e8a-4ca0-ace5-addf464da140",
   "metadata": {},
   "outputs": [],
   "source": [
    "X = df[features]\n",
    "y = df[\"is_courier_grabbed\"]"
   ]
  },
  {
   "cell_type": "code",
   "execution_count": 55,
   "id": "347f9d6b-a3d3-4179-bebb-0edbf564f18f",
   "metadata": {},
   "outputs": [],
   "source": [
    "X_train, X_test, y_train, y_test = train_test_split(X, y, test_size = 0.3, random_state = 0)"
   ]
  },
  {
   "cell_type": "code",
   "execution_count": null,
   "id": "0eaf5453-3935-41bd-983c-44195b648933",
   "metadata": {},
   "outputs": [],
   "source": []
  },
  {
   "cell_type": "code",
   "execution_count": 56,
   "id": "f8326da5-c554-45c3-b203-cf4d0dab826a",
   "metadata": {},
   "outputs": [
    {
     "name": "stdout",
     "output_type": "stream",
     "text": [
      "Best set of hyperparameters:  {'learning_rate': 0.08927236629802508, 'max_depth': 6, 'n_estimators': 143, 'scale_pos_weight': 0.8036095865587232, 'subsample': 0.7965782530417181}\n",
      "Best score:  0.8560998486153322\n"
     ]
    }
   ],
   "source": [
    "from sklearn.model_selection import RandomizedSearchCV\n",
    "import scipy.stats as stats\n",
    "\n",
    "# Define the hyperparameter distributions\n",
    "param_dist = {\n",
    "    'max_depth': stats.randint(3, 10),\n",
    "    'learning_rate': stats.uniform(0.01, 0.1),\n",
    "    'subsample': stats.uniform(0.5, 0.5),\n",
    "    'n_estimators': stats.randint(50, 200),\n",
    "    'scale_pos_weight': stats.uniform(0.01, 1.0)\n",
    "    \n",
    "}\n",
    "\n",
    "# Create the XGBoost model object\n",
    "xgb_model = xgb.XGBClassifier()\n",
    "\n",
    "# Create the RandomizedSearchCV object\n",
    "random_search = RandomizedSearchCV(xgb_model, param_distributions=param_dist, n_iter=30, cv=5, scoring='roc_auc')\n",
    "\n",
    "# Fit the RandomizedSearchCV object to the training data\n",
    "random_search.fit(X_train, y_train)\n",
    "\n",
    "# Print the best set of hyperparameters and the corresponding score\n",
    "print(\"Best set of hyperparameters: \", random_search.best_params_)\n",
    "print(\"Best score: \", random_search.best_score_)"
   ]
  },
  {
   "cell_type": "code",
   "execution_count": 57,
   "id": "3016e5a1-9da9-478e-8cf3-e0139ff08766",
   "metadata": {},
   "outputs": [
    {
     "name": "stdout",
     "output_type": "stream",
     "text": [
      "learning_rate=0.08927236629802508,\n",
      "max_depth=6,\n",
      "n_estimators=143,\n",
      "scale_pos_weight=0.8036095865587232,\n",
      "subsample=0.7965782530417181,\n"
     ]
    }
   ],
   "source": [
    "for param in random_search.best_params_:\n",
    "    print(param + \"=\" + str(random_search.best_params_[param]) + \",\")"
   ]
  },
  {
   "cell_type": "code",
   "execution_count": null,
   "id": "7f95a355-4c7f-4bd5-be1e-dd230279d9b5",
   "metadata": {},
   "outputs": [],
   "source": []
  },
  {
   "cell_type": "markdown",
   "id": "19f9bf4f-c54f-4978-841a-c19388655cf6",
   "metadata": {},
   "source": [
    "# Retrain the chosen model with full dataset and optimized parameters"
   ]
  },
  {
   "cell_type": "code",
   "execution_count": 58,
   "id": "4b402de6-ee25-43ae-b77f-bd403ead1def",
   "metadata": {},
   "outputs": [],
   "source": [
    "X = df[features]\n",
    "y = df[\"is_courier_grabbed\"]"
   ]
  },
  {
   "cell_type": "code",
   "execution_count": 59,
   "id": "b3fdc0ff-2072-4759-af12-ca75169f5e96",
   "metadata": {},
   "outputs": [
    {
     "data": {
      "text/html": [
       "<style>#sk-container-id-5 {color: black;}#sk-container-id-5 pre{padding: 0;}#sk-container-id-5 div.sk-toggleable {background-color: white;}#sk-container-id-5 label.sk-toggleable__label {cursor: pointer;display: block;width: 100%;margin-bottom: 0;padding: 0.3em;box-sizing: border-box;text-align: center;}#sk-container-id-5 label.sk-toggleable__label-arrow:before {content: \"▸\";float: left;margin-right: 0.25em;color: #696969;}#sk-container-id-5 label.sk-toggleable__label-arrow:hover:before {color: black;}#sk-container-id-5 div.sk-estimator:hover label.sk-toggleable__label-arrow:before {color: black;}#sk-container-id-5 div.sk-toggleable__content {max-height: 0;max-width: 0;overflow: hidden;text-align: left;background-color: #f0f8ff;}#sk-container-id-5 div.sk-toggleable__content pre {margin: 0.2em;color: black;border-radius: 0.25em;background-color: #f0f8ff;}#sk-container-id-5 input.sk-toggleable__control:checked~div.sk-toggleable__content {max-height: 200px;max-width: 100%;overflow: auto;}#sk-container-id-5 input.sk-toggleable__control:checked~label.sk-toggleable__label-arrow:before {content: \"▾\";}#sk-container-id-5 div.sk-estimator input.sk-toggleable__control:checked~label.sk-toggleable__label {background-color: #d4ebff;}#sk-container-id-5 div.sk-label input.sk-toggleable__control:checked~label.sk-toggleable__label {background-color: #d4ebff;}#sk-container-id-5 input.sk-hidden--visually {border: 0;clip: rect(1px 1px 1px 1px);clip: rect(1px, 1px, 1px, 1px);height: 1px;margin: -1px;overflow: hidden;padding: 0;position: absolute;width: 1px;}#sk-container-id-5 div.sk-estimator {font-family: monospace;background-color: #f0f8ff;border: 1px dotted black;border-radius: 0.25em;box-sizing: border-box;margin-bottom: 0.5em;}#sk-container-id-5 div.sk-estimator:hover {background-color: #d4ebff;}#sk-container-id-5 div.sk-parallel-item::after {content: \"\";width: 100%;border-bottom: 1px solid gray;flex-grow: 1;}#sk-container-id-5 div.sk-label:hover label.sk-toggleable__label {background-color: #d4ebff;}#sk-container-id-5 div.sk-serial::before {content: \"\";position: absolute;border-left: 1px solid gray;box-sizing: border-box;top: 0;bottom: 0;left: 50%;z-index: 0;}#sk-container-id-5 div.sk-serial {display: flex;flex-direction: column;align-items: center;background-color: white;padding-right: 0.2em;padding-left: 0.2em;position: relative;}#sk-container-id-5 div.sk-item {position: relative;z-index: 1;}#sk-container-id-5 div.sk-parallel {display: flex;align-items: stretch;justify-content: center;background-color: white;position: relative;}#sk-container-id-5 div.sk-item::before, #sk-container-id-5 div.sk-parallel-item::before {content: \"\";position: absolute;border-left: 1px solid gray;box-sizing: border-box;top: 0;bottom: 0;left: 50%;z-index: -1;}#sk-container-id-5 div.sk-parallel-item {display: flex;flex-direction: column;z-index: 1;position: relative;background-color: white;}#sk-container-id-5 div.sk-parallel-item:first-child::after {align-self: flex-end;width: 50%;}#sk-container-id-5 div.sk-parallel-item:last-child::after {align-self: flex-start;width: 50%;}#sk-container-id-5 div.sk-parallel-item:only-child::after {width: 0;}#sk-container-id-5 div.sk-dashed-wrapped {border: 1px dashed gray;margin: 0 0.4em 0.5em 0.4em;box-sizing: border-box;padding-bottom: 0.4em;background-color: white;}#sk-container-id-5 div.sk-label label {font-family: monospace;font-weight: bold;display: inline-block;line-height: 1.2em;}#sk-container-id-5 div.sk-label-container {text-align: center;}#sk-container-id-5 div.sk-container {/* jupyter's `normalize.less` sets `[hidden] { display: none; }` but bootstrap.min.css set `[hidden] { display: none !important; }` so we also need the `!important` here to be able to override the default hidden behavior on the sphinx rendered scikit-learn.org. See: https://github.com/scikit-learn/scikit-learn/issues/21755 */display: inline-block !important;position: relative;}#sk-container-id-5 div.sk-text-repr-fallback {display: none;}</style><div id=\"sk-container-id-5\" class=\"sk-top-container\"><div class=\"sk-text-repr-fallback\"><pre>XGBClassifier(base_score=None, booster=None, callbacks=None,\n",
       "              colsample_bylevel=None, colsample_bynode=None,\n",
       "              colsample_bytree=None, device=None, early_stopping_rounds=None,\n",
       "              enable_categorical=False, eval_metric=None, feature_types=None,\n",
       "              gamma=None, grow_policy=None, importance_type=None,\n",
       "              interaction_constraints=None, learning_rate=0.06383990156291175,\n",
       "              max_bin=None, max_cat_threshold=None, max_cat_to_onehot=None,\n",
       "              max_delta_step=None, max_depth=7, max_leaves=None,\n",
       "              min_child_weight=None, missing=nan, monotone_constraints=None,\n",
       "              multi_strategy=None, n_estimators=137, n_jobs=None,\n",
       "              num_parallel_tree=None, random_state=None, ...)</pre><b>In a Jupyter environment, please rerun this cell to show the HTML representation or trust the notebook. <br />On GitHub, the HTML representation is unable to render, please try loading this page with nbviewer.org.</b></div><div class=\"sk-container\" hidden><div class=\"sk-item\"><div class=\"sk-estimator sk-toggleable\"><input class=\"sk-toggleable__control sk-hidden--visually\" id=\"sk-estimator-id-5\" type=\"checkbox\" checked><label for=\"sk-estimator-id-5\" class=\"sk-toggleable__label sk-toggleable__label-arrow\">XGBClassifier</label><div class=\"sk-toggleable__content\"><pre>XGBClassifier(base_score=None, booster=None, callbacks=None,\n",
       "              colsample_bylevel=None, colsample_bynode=None,\n",
       "              colsample_bytree=None, device=None, early_stopping_rounds=None,\n",
       "              enable_categorical=False, eval_metric=None, feature_types=None,\n",
       "              gamma=None, grow_policy=None, importance_type=None,\n",
       "              interaction_constraints=None, learning_rate=0.06383990156291175,\n",
       "              max_bin=None, max_cat_threshold=None, max_cat_to_onehot=None,\n",
       "              max_delta_step=None, max_depth=7, max_leaves=None,\n",
       "              min_child_weight=None, missing=nan, monotone_constraints=None,\n",
       "              multi_strategy=None, n_estimators=137, n_jobs=None,\n",
       "              num_parallel_tree=None, random_state=None, ...)</pre></div></div></div></div></div>"
      ],
      "text/plain": [
       "XGBClassifier(base_score=None, booster=None, callbacks=None,\n",
       "              colsample_bylevel=None, colsample_bynode=None,\n",
       "              colsample_bytree=None, device=None, early_stopping_rounds=None,\n",
       "              enable_categorical=False, eval_metric=None, feature_types=None,\n",
       "              gamma=None, grow_policy=None, importance_type=None,\n",
       "              interaction_constraints=None, learning_rate=0.06383990156291175,\n",
       "              max_bin=None, max_cat_threshold=None, max_cat_to_onehot=None,\n",
       "              max_delta_step=None, max_depth=7, max_leaves=None,\n",
       "              min_child_weight=None, missing=nan, monotone_constraints=None,\n",
       "              multi_strategy=None, n_estimators=137, n_jobs=None,\n",
       "              num_parallel_tree=None, random_state=None, ...)"
      ]
     },
     "execution_count": 59,
     "metadata": {},
     "output_type": "execute_result"
    }
   ],
   "source": [
    "chosen_model = xgb.XGBClassifier(learning_rate=0.06383990156291175,\n",
    "                                max_depth=7,\n",
    "                                n_estimators=137,\n",
    "                                scale_pos_weight=0.703939097208381,\n",
    "                                subsample=0.7142673037989742)\n",
    "chosen_model.fit(X, y)"
   ]
  },
  {
   "cell_type": "code",
   "execution_count": 60,
   "id": "37ba1a78-77b1-4899-8be7-b19e4563eaa0",
   "metadata": {},
   "outputs": [],
   "source": [
    "y_probas = chosen_model.predict_proba(X)\n",
    "y_preds = (y_probas [:,1] >= 0.5).astype('int')"
   ]
  },
  {
   "cell_type": "code",
   "execution_count": 61,
   "id": "42093efe-5d1f-412a-8956-34eafe2f6d1d",
   "metadata": {},
   "outputs": [
    {
     "data": {
      "text/plain": [
       "array([[ 10619,   7895],\n",
       "       [ 36105, 399663]], dtype=int64)"
      ]
     },
     "execution_count": 61,
     "metadata": {},
     "output_type": "execute_result"
    }
   ],
   "source": [
    "(tn, fp, fn, tp) = metrics.confusion_matrix(y_preds, y).ravel()\n",
    "metrics.confusion_matrix(y_preds, y)"
   ]
  },
  {
   "cell_type": "code",
   "execution_count": 62,
   "id": "11a43d7e-d1a4-4d22-9f6c-43fba9e9857a",
   "metadata": {},
   "outputs": [
    {
     "data": {
      "text/plain": [
       "0.7453561148817872"
      ]
     },
     "execution_count": 62,
     "metadata": {},
     "output_type": "execute_result"
    }
   ],
   "source": [
    "roc_auc = metrics.roc_auc_score(y_preds, y)\n",
    "roc_auc"
   ]
  },
  {
   "cell_type": "code",
   "execution_count": 63,
   "id": "35215974-cca5-4cd9-acb3-2c028e465572",
   "metadata": {},
   "outputs": [],
   "source": [
    "chosen_model.save_model(\"predictor.json\")"
   ]
  },
  {
   "cell_type": "code",
   "execution_count": null,
   "id": "4474821a-c675-44ca-b2b8-d1228d725c97",
   "metadata": {},
   "outputs": [],
   "source": []
  },
  {
   "cell_type": "code",
   "execution_count": null,
   "id": "7aedc063-0108-4786-83bb-60e1959aff0e",
   "metadata": {},
   "outputs": [],
   "source": []
  },
  {
   "cell_type": "code",
   "execution_count": null,
   "id": "4071f0a9-9dab-4187-9384-a96f9dd78c49",
   "metadata": {},
   "outputs": [],
   "source": []
  },
  {
   "cell_type": "code",
   "execution_count": null,
   "id": "2ab3df56-0e96-44f3-baa1-f085992408bc",
   "metadata": {},
   "outputs": [],
   "source": []
  },
  {
   "cell_type": "code",
   "execution_count": null,
   "id": "8d45e33c-4436-4ce2-b366-b5c1e6527d4e",
   "metadata": {},
   "outputs": [],
   "source": []
  }
 ],
 "metadata": {
  "kernelspec": {
   "display_name": "Python 3",
   "language": "python",
   "name": "python3"
  },
  "language_info": {
   "codemirror_mode": {
    "name": "ipython",
    "version": 3
   },
   "file_extension": ".py",
   "mimetype": "text/x-python",
   "name": "python",
   "nbconvert_exporter": "python",
   "pygments_lexer": "ipython3",
   "version": "3.10.9"
  }
 },
 "nbformat": 4,
 "nbformat_minor": 5
}
